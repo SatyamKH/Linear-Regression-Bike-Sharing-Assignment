{
 "cells": [
  {
   "cell_type": "markdown",
   "id": "f973bdd1",
   "metadata": {},
   "source": [
    "## Importing important Libraries"
   ]
  },
  {
   "cell_type": "code",
   "execution_count": 1,
   "id": "4b72a2a6",
   "metadata": {},
   "outputs": [],
   "source": [
    "# For analysis and numerical functions\n",
    "import pandas as pd\n",
    "import numpy as np\n",
    "\n",
    "# For Vizualization\n",
    "import seaborn as sns\n",
    "import matplotlib.pyplot as plt\n",
    "\n",
    "# Extra\n",
    "import warnings\n",
    "warnings.filterwarnings(action='ignore')\n",
    "\n",
    "# For modelling\n",
    "from sklearn.model_selection import train_test_split\n",
    "from sklearn.preprocessing import MinMaxScaler\n",
    "from sklearn.feature_selection import RFE\n",
    "from sklearn.linear_model import LinearRegression\n",
    "from statsmodels.stats.outliers_influence import variance_inflation_factor\n",
    "import statsmodels.api as sm\n",
    "from sklearn.metrics import r2_score"
   ]
  },
  {
   "cell_type": "markdown",
   "id": "0794743a",
   "metadata": {},
   "source": [
    "## Loding The Dataset "
   ]
  },
  {
   "cell_type": "code",
   "execution_count": 2,
   "id": "4ad3a971",
   "metadata": {},
   "outputs": [
    {
     "data": {
      "text/html": [
       "<div>\n",
       "<style scoped>\n",
       "    .dataframe tbody tr th:only-of-type {\n",
       "        vertical-align: middle;\n",
       "    }\n",
       "\n",
       "    .dataframe tbody tr th {\n",
       "        vertical-align: top;\n",
       "    }\n",
       "\n",
       "    .dataframe thead th {\n",
       "        text-align: right;\n",
       "    }\n",
       "</style>\n",
       "<table border=\"1\" class=\"dataframe\">\n",
       "  <thead>\n",
       "    <tr style=\"text-align: right;\">\n",
       "      <th></th>\n",
       "      <th>instant</th>\n",
       "      <th>dteday</th>\n",
       "      <th>season</th>\n",
       "      <th>yr</th>\n",
       "      <th>mnth</th>\n",
       "      <th>holiday</th>\n",
       "      <th>weekday</th>\n",
       "      <th>workingday</th>\n",
       "      <th>weathersit</th>\n",
       "      <th>temp</th>\n",
       "      <th>atemp</th>\n",
       "      <th>hum</th>\n",
       "      <th>windspeed</th>\n",
       "      <th>casual</th>\n",
       "      <th>registered</th>\n",
       "      <th>cnt</th>\n",
       "    </tr>\n",
       "  </thead>\n",
       "  <tbody>\n",
       "    <tr>\n",
       "      <th>0</th>\n",
       "      <td>1</td>\n",
       "      <td>01-01-2018</td>\n",
       "      <td>1</td>\n",
       "      <td>0</td>\n",
       "      <td>1</td>\n",
       "      <td>0</td>\n",
       "      <td>6</td>\n",
       "      <td>0</td>\n",
       "      <td>2</td>\n",
       "      <td>14.110847</td>\n",
       "      <td>18.18125</td>\n",
       "      <td>80.5833</td>\n",
       "      <td>10.749882</td>\n",
       "      <td>331</td>\n",
       "      <td>654</td>\n",
       "      <td>985</td>\n",
       "    </tr>\n",
       "    <tr>\n",
       "      <th>1</th>\n",
       "      <td>2</td>\n",
       "      <td>02-01-2018</td>\n",
       "      <td>1</td>\n",
       "      <td>0</td>\n",
       "      <td>1</td>\n",
       "      <td>0</td>\n",
       "      <td>0</td>\n",
       "      <td>0</td>\n",
       "      <td>2</td>\n",
       "      <td>14.902598</td>\n",
       "      <td>17.68695</td>\n",
       "      <td>69.6087</td>\n",
       "      <td>16.652113</td>\n",
       "      <td>131</td>\n",
       "      <td>670</td>\n",
       "      <td>801</td>\n",
       "    </tr>\n",
       "    <tr>\n",
       "      <th>2</th>\n",
       "      <td>3</td>\n",
       "      <td>03-01-2018</td>\n",
       "      <td>1</td>\n",
       "      <td>0</td>\n",
       "      <td>1</td>\n",
       "      <td>0</td>\n",
       "      <td>1</td>\n",
       "      <td>1</td>\n",
       "      <td>1</td>\n",
       "      <td>8.050924</td>\n",
       "      <td>9.47025</td>\n",
       "      <td>43.7273</td>\n",
       "      <td>16.636703</td>\n",
       "      <td>120</td>\n",
       "      <td>1229</td>\n",
       "      <td>1349</td>\n",
       "    </tr>\n",
       "    <tr>\n",
       "      <th>3</th>\n",
       "      <td>4</td>\n",
       "      <td>04-01-2018</td>\n",
       "      <td>1</td>\n",
       "      <td>0</td>\n",
       "      <td>1</td>\n",
       "      <td>0</td>\n",
       "      <td>2</td>\n",
       "      <td>1</td>\n",
       "      <td>1</td>\n",
       "      <td>8.200000</td>\n",
       "      <td>10.60610</td>\n",
       "      <td>59.0435</td>\n",
       "      <td>10.739832</td>\n",
       "      <td>108</td>\n",
       "      <td>1454</td>\n",
       "      <td>1562</td>\n",
       "    </tr>\n",
       "    <tr>\n",
       "      <th>4</th>\n",
       "      <td>5</td>\n",
       "      <td>05-01-2018</td>\n",
       "      <td>1</td>\n",
       "      <td>0</td>\n",
       "      <td>1</td>\n",
       "      <td>0</td>\n",
       "      <td>3</td>\n",
       "      <td>1</td>\n",
       "      <td>1</td>\n",
       "      <td>9.305237</td>\n",
       "      <td>11.46350</td>\n",
       "      <td>43.6957</td>\n",
       "      <td>12.522300</td>\n",
       "      <td>82</td>\n",
       "      <td>1518</td>\n",
       "      <td>1600</td>\n",
       "    </tr>\n",
       "  </tbody>\n",
       "</table>\n",
       "</div>"
      ],
      "text/plain": [
       "   instant      dteday  season  yr  mnth  holiday  weekday  workingday  \\\n",
       "0        1  01-01-2018       1   0     1        0        6           0   \n",
       "1        2  02-01-2018       1   0     1        0        0           0   \n",
       "2        3  03-01-2018       1   0     1        0        1           1   \n",
       "3        4  04-01-2018       1   0     1        0        2           1   \n",
       "4        5  05-01-2018       1   0     1        0        3           1   \n",
       "\n",
       "   weathersit       temp     atemp      hum  windspeed  casual  registered  \\\n",
       "0           2  14.110847  18.18125  80.5833  10.749882     331         654   \n",
       "1           2  14.902598  17.68695  69.6087  16.652113     131         670   \n",
       "2           1   8.050924   9.47025  43.7273  16.636703     120        1229   \n",
       "3           1   8.200000  10.60610  59.0435  10.739832     108        1454   \n",
       "4           1   9.305237  11.46350  43.6957  12.522300      82        1518   \n",
       "\n",
       "    cnt  \n",
       "0   985  \n",
       "1   801  \n",
       "2  1349  \n",
       "3  1562  \n",
       "4  1600  "
      ]
     },
     "execution_count": 2,
     "metadata": {},
     "output_type": "execute_result"
    }
   ],
   "source": [
    "df=pd.read_csv(\"day.csv\")\n",
    "df.head()"
   ]
  },
  {
   "cell_type": "markdown",
   "id": "9f19acda",
   "metadata": {},
   "source": [
    "## Data Sanity Checks"
   ]
  },
  {
   "cell_type": "code",
   "execution_count": 3,
   "id": "d5331a2f",
   "metadata": {},
   "outputs": [
    {
     "data": {
      "text/plain": [
       "(730, 16)"
      ]
     },
     "execution_count": 3,
     "metadata": {},
     "output_type": "execute_result"
    }
   ],
   "source": [
    "df.shape"
   ]
  },
  {
   "cell_type": "code",
   "execution_count": 4,
   "id": "ee25a385",
   "metadata": {},
   "outputs": [
    {
     "name": "stdout",
     "output_type": "stream",
     "text": [
      "<class 'pandas.core.frame.DataFrame'>\n",
      "RangeIndex: 730 entries, 0 to 729\n",
      "Data columns (total 16 columns):\n",
      " #   Column      Non-Null Count  Dtype  \n",
      "---  ------      --------------  -----  \n",
      " 0   instant     730 non-null    int64  \n",
      " 1   dteday      730 non-null    object \n",
      " 2   season      730 non-null    int64  \n",
      " 3   yr          730 non-null    int64  \n",
      " 4   mnth        730 non-null    int64  \n",
      " 5   holiday     730 non-null    int64  \n",
      " 6   weekday     730 non-null    int64  \n",
      " 7   workingday  730 non-null    int64  \n",
      " 8   weathersit  730 non-null    int64  \n",
      " 9   temp        730 non-null    float64\n",
      " 10  atemp       730 non-null    float64\n",
      " 11  hum         730 non-null    float64\n",
      " 12  windspeed   730 non-null    float64\n",
      " 13  casual      730 non-null    int64  \n",
      " 14  registered  730 non-null    int64  \n",
      " 15  cnt         730 non-null    int64  \n",
      "dtypes: float64(4), int64(11), object(1)\n",
      "memory usage: 91.4+ KB\n"
     ]
    }
   ],
   "source": [
    "df.info()"
   ]
  },
  {
   "cell_type": "markdown",
   "id": "d501ef24",
   "metadata": {},
   "source": [
    "### Checking For Missing Values"
   ]
  },
  {
   "cell_type": "code",
   "execution_count": 5,
   "id": "d164a060",
   "metadata": {},
   "outputs": [
    {
     "data": {
      "text/plain": [
       "instant       0.0\n",
       "dteday        0.0\n",
       "season        0.0\n",
       "yr            0.0\n",
       "mnth          0.0\n",
       "holiday       0.0\n",
       "weekday       0.0\n",
       "workingday    0.0\n",
       "weathersit    0.0\n",
       "temp          0.0\n",
       "atemp         0.0\n",
       "hum           0.0\n",
       "windspeed     0.0\n",
       "casual        0.0\n",
       "registered    0.0\n",
       "cnt           0.0\n",
       "dtype: float64"
      ]
     },
     "execution_count": 5,
     "metadata": {},
     "output_type": "execute_result"
    }
   ],
   "source": [
    "df.isnull().mean()"
   ]
  },
  {
   "cell_type": "markdown",
   "id": "6fc56110",
   "metadata": {},
   "source": [
    "## Pre Processing Data"
   ]
  },
  {
   "cell_type": "markdown",
   "id": "b21619ef",
   "metadata": {},
   "source": [
    "### Dropping Unessary Columns"
   ]
  },
  {
   "cell_type": "code",
   "execution_count": 6,
   "id": "a7734ccd",
   "metadata": {},
   "outputs": [
    {
     "data": {
      "text/html": [
       "<div>\n",
       "<style scoped>\n",
       "    .dataframe tbody tr th:only-of-type {\n",
       "        vertical-align: middle;\n",
       "    }\n",
       "\n",
       "    .dataframe tbody tr th {\n",
       "        vertical-align: top;\n",
       "    }\n",
       "\n",
       "    .dataframe thead th {\n",
       "        text-align: right;\n",
       "    }\n",
       "</style>\n",
       "<table border=\"1\" class=\"dataframe\">\n",
       "  <thead>\n",
       "    <tr style=\"text-align: right;\">\n",
       "      <th></th>\n",
       "      <th>season</th>\n",
       "      <th>yr</th>\n",
       "      <th>mnth</th>\n",
       "      <th>holiday</th>\n",
       "      <th>weekday</th>\n",
       "      <th>workingday</th>\n",
       "      <th>weathersit</th>\n",
       "      <th>temp</th>\n",
       "      <th>atemp</th>\n",
       "      <th>hum</th>\n",
       "      <th>windspeed</th>\n",
       "      <th>cnt</th>\n",
       "    </tr>\n",
       "  </thead>\n",
       "  <tbody>\n",
       "    <tr>\n",
       "      <th>0</th>\n",
       "      <td>1</td>\n",
       "      <td>0</td>\n",
       "      <td>1</td>\n",
       "      <td>0</td>\n",
       "      <td>6</td>\n",
       "      <td>0</td>\n",
       "      <td>2</td>\n",
       "      <td>14.110847</td>\n",
       "      <td>18.18125</td>\n",
       "      <td>80.5833</td>\n",
       "      <td>10.749882</td>\n",
       "      <td>985</td>\n",
       "    </tr>\n",
       "    <tr>\n",
       "      <th>1</th>\n",
       "      <td>1</td>\n",
       "      <td>0</td>\n",
       "      <td>1</td>\n",
       "      <td>0</td>\n",
       "      <td>0</td>\n",
       "      <td>0</td>\n",
       "      <td>2</td>\n",
       "      <td>14.902598</td>\n",
       "      <td>17.68695</td>\n",
       "      <td>69.6087</td>\n",
       "      <td>16.652113</td>\n",
       "      <td>801</td>\n",
       "    </tr>\n",
       "    <tr>\n",
       "      <th>2</th>\n",
       "      <td>1</td>\n",
       "      <td>0</td>\n",
       "      <td>1</td>\n",
       "      <td>0</td>\n",
       "      <td>1</td>\n",
       "      <td>1</td>\n",
       "      <td>1</td>\n",
       "      <td>8.050924</td>\n",
       "      <td>9.47025</td>\n",
       "      <td>43.7273</td>\n",
       "      <td>16.636703</td>\n",
       "      <td>1349</td>\n",
       "    </tr>\n",
       "    <tr>\n",
       "      <th>3</th>\n",
       "      <td>1</td>\n",
       "      <td>0</td>\n",
       "      <td>1</td>\n",
       "      <td>0</td>\n",
       "      <td>2</td>\n",
       "      <td>1</td>\n",
       "      <td>1</td>\n",
       "      <td>8.200000</td>\n",
       "      <td>10.60610</td>\n",
       "      <td>59.0435</td>\n",
       "      <td>10.739832</td>\n",
       "      <td>1562</td>\n",
       "    </tr>\n",
       "    <tr>\n",
       "      <th>4</th>\n",
       "      <td>1</td>\n",
       "      <td>0</td>\n",
       "      <td>1</td>\n",
       "      <td>0</td>\n",
       "      <td>3</td>\n",
       "      <td>1</td>\n",
       "      <td>1</td>\n",
       "      <td>9.305237</td>\n",
       "      <td>11.46350</td>\n",
       "      <td>43.6957</td>\n",
       "      <td>12.522300</td>\n",
       "      <td>1600</td>\n",
       "    </tr>\n",
       "  </tbody>\n",
       "</table>\n",
       "</div>"
      ],
      "text/plain": [
       "   season  yr  mnth  holiday  weekday  workingday  weathersit       temp  \\\n",
       "0       1   0     1        0        6           0           2  14.110847   \n",
       "1       1   0     1        0        0           0           2  14.902598   \n",
       "2       1   0     1        0        1           1           1   8.050924   \n",
       "3       1   0     1        0        2           1           1   8.200000   \n",
       "4       1   0     1        0        3           1           1   9.305237   \n",
       "\n",
       "      atemp      hum  windspeed   cnt  \n",
       "0  18.18125  80.5833  10.749882   985  \n",
       "1  17.68695  69.6087  16.652113   801  \n",
       "2   9.47025  43.7273  16.636703  1349  \n",
       "3  10.60610  59.0435  10.739832  1562  \n",
       "4  11.46350  43.6957  12.522300  1600  "
      ]
     },
     "execution_count": 6,
     "metadata": {},
     "output_type": "execute_result"
    }
   ],
   "source": [
    "df1=df.drop(['instant','dteday','casual', 'registered'], axis=1)\n",
    "df1.head()"
   ]
  },
  {
   "cell_type": "code",
   "execution_count": 7,
   "id": "7ca27dbd",
   "metadata": {},
   "outputs": [
    {
     "data": {
      "text/plain": [
       "(730, 12)"
      ]
     },
     "execution_count": 7,
     "metadata": {},
     "output_type": "execute_result"
    }
   ],
   "source": [
    "df1.shape"
   ]
  },
  {
   "cell_type": "markdown",
   "id": "b67af1f1",
   "metadata": {},
   "source": [
    "### We can infer from the data that \"season,\" \"yr,\" \"mnth,\" \"holiday,\" \"weekday,\" \"workingday,\" and \"weathersit\" are all categorical variables."
   ]
  },
  {
   "cell_type": "markdown",
   "id": "85d9801a",
   "metadata": {},
   "source": [
    "### We shall substitute the relevant values for \"season,\" \"weekday,\" and \"weathersit.\"\n"
   ]
  },
  {
   "cell_type": "code",
   "execution_count": 8,
   "id": "8e864e23",
   "metadata": {},
   "outputs": [],
   "source": [
    "# Mapping season column\n",
    "df1['season'].replace({1:\"spring\",2:\"summer\",3:\"fall\",4:\"winter\"},inplace=True)"
   ]
  },
  {
   "cell_type": "code",
   "execution_count": 9,
   "id": "4cee466e",
   "metadata": {},
   "outputs": [],
   "source": [
    "# Mapping mnth column\n",
    "df1['mnth'].replace({1:\"January\",2:\"Feburary\",3:\"March\",4:\"April\",5:\"May\",6:\"June\",7:\"July\",8:\"August\",\n",
    "                    9:\"September\",10:\"October\",11:\"November\",12:\"December\"},inplace=True)"
   ]
  },
  {
   "cell_type": "code",
   "execution_count": 10,
   "id": "7ceb2a91",
   "metadata": {},
   "outputs": [],
   "source": [
    "# Mapping weekday column\n",
    "df1['weekday'].replace({0:\"Sunday\",1:\"Monday\",2:\"Tuesday\",3:\"Wednesday\",4:\"Thursday\",5:\"Friday\",6:\"Saturday\"},inplace=True)"
   ]
  },
  {
   "cell_type": "code",
   "execution_count": 11,
   "id": "47f9946a",
   "metadata": {},
   "outputs": [],
   "source": [
    "# Mapping weathersit column\n",
    "df1['weathersit'].replace({1:\"Clear_Few Clouds\",2:\"Mist_cloudy\",3:\"Light rain_Light snow_Thunderstorm\",\n",
    "                          4:'Heavy Rain_Ice Pallets_Thunderstorm_Mist'},inplace=True)"
   ]
  },
  {
   "cell_type": "code",
   "execution_count": 12,
   "id": "7ab2746e",
   "metadata": {},
   "outputs": [
    {
     "data": {
      "text/html": [
       "<div>\n",
       "<style scoped>\n",
       "    .dataframe tbody tr th:only-of-type {\n",
       "        vertical-align: middle;\n",
       "    }\n",
       "\n",
       "    .dataframe tbody tr th {\n",
       "        vertical-align: top;\n",
       "    }\n",
       "\n",
       "    .dataframe thead th {\n",
       "        text-align: right;\n",
       "    }\n",
       "</style>\n",
       "<table border=\"1\" class=\"dataframe\">\n",
       "  <thead>\n",
       "    <tr style=\"text-align: right;\">\n",
       "      <th></th>\n",
       "      <th>season</th>\n",
       "      <th>yr</th>\n",
       "      <th>mnth</th>\n",
       "      <th>holiday</th>\n",
       "      <th>weekday</th>\n",
       "      <th>workingday</th>\n",
       "      <th>weathersit</th>\n",
       "      <th>temp</th>\n",
       "      <th>atemp</th>\n",
       "      <th>hum</th>\n",
       "      <th>windspeed</th>\n",
       "      <th>cnt</th>\n",
       "    </tr>\n",
       "  </thead>\n",
       "  <tbody>\n",
       "    <tr>\n",
       "      <th>0</th>\n",
       "      <td>spring</td>\n",
       "      <td>0</td>\n",
       "      <td>January</td>\n",
       "      <td>0</td>\n",
       "      <td>Saturday</td>\n",
       "      <td>0</td>\n",
       "      <td>Mist_cloudy</td>\n",
       "      <td>14.110847</td>\n",
       "      <td>18.18125</td>\n",
       "      <td>80.5833</td>\n",
       "      <td>10.749882</td>\n",
       "      <td>985</td>\n",
       "    </tr>\n",
       "    <tr>\n",
       "      <th>1</th>\n",
       "      <td>spring</td>\n",
       "      <td>0</td>\n",
       "      <td>January</td>\n",
       "      <td>0</td>\n",
       "      <td>Sunday</td>\n",
       "      <td>0</td>\n",
       "      <td>Mist_cloudy</td>\n",
       "      <td>14.902598</td>\n",
       "      <td>17.68695</td>\n",
       "      <td>69.6087</td>\n",
       "      <td>16.652113</td>\n",
       "      <td>801</td>\n",
       "    </tr>\n",
       "    <tr>\n",
       "      <th>2</th>\n",
       "      <td>spring</td>\n",
       "      <td>0</td>\n",
       "      <td>January</td>\n",
       "      <td>0</td>\n",
       "      <td>Monday</td>\n",
       "      <td>1</td>\n",
       "      <td>Clear_Few Clouds</td>\n",
       "      <td>8.050924</td>\n",
       "      <td>9.47025</td>\n",
       "      <td>43.7273</td>\n",
       "      <td>16.636703</td>\n",
       "      <td>1349</td>\n",
       "    </tr>\n",
       "    <tr>\n",
       "      <th>3</th>\n",
       "      <td>spring</td>\n",
       "      <td>0</td>\n",
       "      <td>January</td>\n",
       "      <td>0</td>\n",
       "      <td>Tuesday</td>\n",
       "      <td>1</td>\n",
       "      <td>Clear_Few Clouds</td>\n",
       "      <td>8.200000</td>\n",
       "      <td>10.60610</td>\n",
       "      <td>59.0435</td>\n",
       "      <td>10.739832</td>\n",
       "      <td>1562</td>\n",
       "    </tr>\n",
       "    <tr>\n",
       "      <th>4</th>\n",
       "      <td>spring</td>\n",
       "      <td>0</td>\n",
       "      <td>January</td>\n",
       "      <td>0</td>\n",
       "      <td>Wednesday</td>\n",
       "      <td>1</td>\n",
       "      <td>Clear_Few Clouds</td>\n",
       "      <td>9.305237</td>\n",
       "      <td>11.46350</td>\n",
       "      <td>43.6957</td>\n",
       "      <td>12.522300</td>\n",
       "      <td>1600</td>\n",
       "    </tr>\n",
       "  </tbody>\n",
       "</table>\n",
       "</div>"
      ],
      "text/plain": [
       "   season  yr     mnth  holiday    weekday  workingday        weathersit  \\\n",
       "0  spring   0  January        0   Saturday           0       Mist_cloudy   \n",
       "1  spring   0  January        0     Sunday           0       Mist_cloudy   \n",
       "2  spring   0  January        0     Monday           1  Clear_Few Clouds   \n",
       "3  spring   0  January        0    Tuesday           1  Clear_Few Clouds   \n",
       "4  spring   0  January        0  Wednesday           1  Clear_Few Clouds   \n",
       "\n",
       "        temp     atemp      hum  windspeed   cnt  \n",
       "0  14.110847  18.18125  80.5833  10.749882   985  \n",
       "1  14.902598  17.68695  69.6087  16.652113   801  \n",
       "2   8.050924   9.47025  43.7273  16.636703  1349  \n",
       "3   8.200000  10.60610  59.0435  10.739832  1562  \n",
       "4   9.305237  11.46350  43.6957  12.522300  1600  "
      ]
     },
     "execution_count": 12,
     "metadata": {},
     "output_type": "execute_result"
    }
   ],
   "source": [
    "# check the head of the dataset after mapping the categorical columns\n",
    "df1.head()"
   ]
  },
  {
   "cell_type": "markdown",
   "id": "35c24e1b",
   "metadata": {},
   "source": [
    "## Exploratory Data Analysis"
   ]
  },
  {
   "cell_type": "code",
   "execution_count": 13,
   "id": "3b780eab",
   "metadata": {},
   "outputs": [
    {
     "data": {
      "text/plain": [
       "season          4\n",
       "yr              2\n",
       "mnth           12\n",
       "holiday         2\n",
       "weekday         7\n",
       "workingday      2\n",
       "weathersit      3\n",
       "temp          498\n",
       "atemp         689\n",
       "hum           594\n",
       "windspeed     649\n",
       "cnt           695\n",
       "dtype: int64"
      ]
     },
     "execution_count": 13,
     "metadata": {},
     "output_type": "execute_result"
    }
   ],
   "source": [
    "df1.nunique()"
   ]
  },
  {
   "cell_type": "code",
   "execution_count": 14,
   "id": "12886d29",
   "metadata": {},
   "outputs": [
    {
     "data": {
      "text/plain": [
       "12"
      ]
     },
     "execution_count": 14,
     "metadata": {},
     "output_type": "execute_result"
    }
   ],
   "source": [
    "cat_cols=['season','yr','mnth','holiday','weekday','workingday','weathersit']\n",
    "cont_cols=['temp','atemp','hum','windspeed']\n",
    "target=['cnt']\n",
    "len(cat_cols)+len(cont_cols)+len(target)"
   ]
  },
  {
   "cell_type": "markdown",
   "id": "e0ff15a1",
   "metadata": {},
   "source": [
    "## Univariate Analysis"
   ]
  },
  {
   "cell_type": "code",
   "execution_count": 15,
   "id": "af1ed7fc",
   "metadata": {},
   "outputs": [
    {
     "data": {
      "image/png": "[encoded data removed]",
      "text/plain": [
       "<Figure size 432x288 with 1 Axes>"
      ]
     },
     "metadata": {
      "needs_background": "light"
     },
     "output_type": "display_data"
    },
    {
     "data": {
      "image/png": "[encoded data removed]",
      "text/plain": [
       "<Figure size 432x288 with 1 Axes>"
      ]
     },
     "metadata": {
      "needs_background": "light"
     },
     "output_type": "display_data"
    },
    {
     "data": {
      "image/png": "[encoded data removed]",
      "text/plain": [
       "<Figure size 432x288 with 1 Axes>"
      ]
     },
     "metadata": {
      "needs_background": "light"
     },
     "output_type": "display_data"
    },
    {
     "data": {
      "image/png": "[encoded data removed]",
      "text/plain": [
       "<Figure size 432x288 with 1 Axes>"
      ]
     },
     "metadata": {
      "needs_background": "light"
     },
     "output_type": "display_data"
    }
   ],
   "source": [
    "for i in cont_cols:\n",
    "    sns.histplot(df1[i])\n",
    "    plt.show()"
   ]
  },
  {
   "cell_type": "code",
   "execution_count": 16,
   "id": "f2ad370a",
   "metadata": {},
   "outputs": [
    {
     "data": {
      "image/png": "[encoded data removed]",
      "text/plain": [
       "<Figure size 432x288 with 1 Axes>"
      ]
     },
     "metadata": {
      "needs_background": "light"
     },
     "output_type": "display_data"
    },
    {
     "data": {
      "image/png": "[encoded data removed]",
      "text/plain": [
       "<Figure size 432x288 with 1 Axes>"
      ]
     },
     "metadata": {
      "needs_background": "light"
     },
     "output_type": "display_data"
    },
    {
     "data": {
      "image/png": "[encoded data removed]",
      "text/plain": [
       "<Figure size 432x288 with 1 Axes>"
      ]
     },
     "metadata": {
      "needs_background": "light"
     },
     "output_type": "display_data"
    },
    {
     "data": {
      "image/png": "[encoded data removed]",
      "text/plain": [
       "<Figure size 432x288 with 1 Axes>"
      ]
     },
     "metadata": {
      "needs_background": "light"
     },
     "output_type": "display_data"
    },
    {
     "data": {
      "image/png": "[encoded data removed]",
      "text/plain": [
       "<Figure size 432x288 with 1 Axes>"
      ]
     },
     "metadata": {
      "needs_background": "light"
     },
     "output_type": "display_data"
    },
    {
     "data": {
      "image/png": "[encoded data removed]",
      "text/plain": [
       "<Figure size 432x288 with 1 Axes>"
      ]
     },
     "metadata": {
      "needs_background": "light"
     },
     "output_type": "display_data"
    },
    {
     "data": {
      "image/png": "[encoded data removed]",
      "text/plain": [
       "<Figure size 432x288 with 1 Axes>"
      ]
     },
     "metadata": {
      "needs_background": "light"
     },
     "output_type": "display_data"
    }
   ],
   "source": [
    "for i in cat_cols:\n",
    "    sns.countplot(x=df1[i])\n",
    "    plt.show()"
   ]
  },
  {
   "cell_type": "markdown",
   "id": "c1931f42",
   "metadata": {},
   "source": [
    "## Bivariate Analysis"
   ]
  },
  {
   "cell_type": "code",
   "execution_count": 17,
   "id": "66118f2f",
   "metadata": {},
   "outputs": [
    {
     "data": {
      "image/png": "[encoded data removed]",
      "text/plain": [
       "<Figure size 432x288 with 1 Axes>"
      ]
     },
     "metadata": {
      "needs_background": "light"
     },
     "output_type": "display_data"
    },
    {
     "data": {
      "image/png": "[encoded data removed]",
      "text/plain": [
       "<Figure size 432x288 with 1 Axes>"
      ]
     },
     "metadata": {
      "needs_background": "light"
     },
     "output_type": "display_data"
    },
    {
     "data": {
      "image/png": "[encoded data removed]",
      "text/plain": [
       "<Figure size 432x288 with 1 Axes>"
      ]
     },
     "metadata": {
      "needs_background": "light"
     },
     "output_type": "display_data"
    },
    {
     "data": {
      "image/png": "[encoded data removed]",
      "text/plain": [
       "<Figure size 432x288 with 1 Axes>"
      ]
     },
     "metadata": {
      "needs_background": "light"
     },
     "output_type": "display_data"
    }
   ],
   "source": [
    "for i in cont_cols:\n",
    "    sns.scatterplot(x=df1[i],y=df1[\"cnt\"])\n",
    "    plt.show()"
   ]
  },
  {
   "cell_type": "markdown",
   "id": "4fe9811b",
   "metadata": {},
   "source": [
    "## Multrivate Analysis"
   ]
  },
  {
   "cell_type": "code",
   "execution_count": 18,
   "id": "c99624f6",
   "metadata": {},
   "outputs": [
    {
     "data": {
      "image/png": "[encoded data removed]",
      "text/plain": [
       "<Figure size 720x720 with 20 Axes>"
      ]
     },
     "metadata": {
      "needs_background": "light"
     },
     "output_type": "display_data"
    }
   ],
   "source": [
    "sns.pairplot(df1[cont_cols])\n",
    "plt.show()"
   ]
  },
  {
   "cell_type": "code",
   "execution_count": 19,
   "id": "17c96b60",
   "metadata": {},
   "outputs": [
    {
     "data": {
      "image/png": "[encoded data removed]",
      "text/plain": [
       "<Figure size 720x360 with 2 Axes>"
      ]
     },
     "metadata": {
      "needs_background": "light"
     },
     "output_type": "display_data"
    }
   ],
   "source": [
    "plt.figure(figsize=(10,5))\n",
    "sns.heatmap(df1[cont_cols+[\"cnt\"]].corr(),annot=True)\n",
    "plt.show()"
   ]
  },
  {
   "cell_type": "markdown",
   "id": "5412abf2",
   "metadata": {},
   "source": [
    "### Dummy Variable Creation"
   ]
  },
  {
   "cell_type": "code",
   "execution_count": 20,
   "id": "3308ffce",
   "metadata": {},
   "outputs": [
    {
     "data": {
      "text/plain": [
       "season         4\n",
       "yr             2\n",
       "mnth          12\n",
       "holiday        2\n",
       "weekday        7\n",
       "workingday     2\n",
       "weathersit     3\n",
       "dtype: int64"
      ]
     },
     "execution_count": 20,
     "metadata": {},
     "output_type": "execute_result"
    }
   ],
   "source": [
    "# Only for non binary categorical columns\n",
    "df1[cat_cols].nunique()"
   ]
  },
  {
   "cell_type": "code",
   "execution_count": 21,
   "id": "0cdd52f6",
   "metadata": {},
   "outputs": [],
   "source": [
    "#Dummy variables for season, mnth, weekday, weathersit\n",
    "dum1=pd.get_dummies(df1.season,drop_first=True)\n",
    "dum2=pd.get_dummies(df1.mnth,drop_first=True)\n",
    "dum3=pd.get_dummies(df1.weekday,drop_first=True)\n",
    "dum4=pd.get_dummies(df1.weathersit,drop_first=True)"
   ]
  },
  {
   "cell_type": "code",
   "execution_count": 22,
   "id": "fb4df9c7",
   "metadata": {},
   "outputs": [
    {
     "data": {
      "text/html": [
       "<div>\n",
       "<style scoped>\n",
       "    .dataframe tbody tr th:only-of-type {\n",
       "        vertical-align: middle;\n",
       "    }\n",
       "\n",
       "    .dataframe tbody tr th {\n",
       "        vertical-align: top;\n",
       "    }\n",
       "\n",
       "    .dataframe thead th {\n",
       "        text-align: right;\n",
       "    }\n",
       "</style>\n",
       "<table border=\"1\" class=\"dataframe\">\n",
       "  <thead>\n",
       "    <tr style=\"text-align: right;\">\n",
       "      <th></th>\n",
       "      <th>spring</th>\n",
       "      <th>summer</th>\n",
       "      <th>winter</th>\n",
       "      <th>August</th>\n",
       "      <th>December</th>\n",
       "      <th>Feburary</th>\n",
       "      <th>January</th>\n",
       "      <th>July</th>\n",
       "      <th>June</th>\n",
       "      <th>March</th>\n",
       "      <th>...</th>\n",
       "      <th>mnth</th>\n",
       "      <th>holiday</th>\n",
       "      <th>weekday</th>\n",
       "      <th>workingday</th>\n",
       "      <th>weathersit</th>\n",
       "      <th>temp</th>\n",
       "      <th>atemp</th>\n",
       "      <th>hum</th>\n",
       "      <th>windspeed</th>\n",
       "      <th>cnt</th>\n",
       "    </tr>\n",
       "  </thead>\n",
       "  <tbody>\n",
       "    <tr>\n",
       "      <th>0</th>\n",
       "      <td>1</td>\n",
       "      <td>0</td>\n",
       "      <td>0</td>\n",
       "      <td>0</td>\n",
       "      <td>0</td>\n",
       "      <td>0</td>\n",
       "      <td>1</td>\n",
       "      <td>0</td>\n",
       "      <td>0</td>\n",
       "      <td>0</td>\n",
       "      <td>...</td>\n",
       "      <td>January</td>\n",
       "      <td>0</td>\n",
       "      <td>Saturday</td>\n",
       "      <td>0</td>\n",
       "      <td>Mist_cloudy</td>\n",
       "      <td>14.110847</td>\n",
       "      <td>18.18125</td>\n",
       "      <td>80.5833</td>\n",
       "      <td>10.749882</td>\n",
       "      <td>985</td>\n",
       "    </tr>\n",
       "    <tr>\n",
       "      <th>1</th>\n",
       "      <td>1</td>\n",
       "      <td>0</td>\n",
       "      <td>0</td>\n",
       "      <td>0</td>\n",
       "      <td>0</td>\n",
       "      <td>0</td>\n",
       "      <td>1</td>\n",
       "      <td>0</td>\n",
       "      <td>0</td>\n",
       "      <td>0</td>\n",
       "      <td>...</td>\n",
       "      <td>January</td>\n",
       "      <td>0</td>\n",
       "      <td>Sunday</td>\n",
       "      <td>0</td>\n",
       "      <td>Mist_cloudy</td>\n",
       "      <td>14.902598</td>\n",
       "      <td>17.68695</td>\n",
       "      <td>69.6087</td>\n",
       "      <td>16.652113</td>\n",
       "      <td>801</td>\n",
       "    </tr>\n",
       "    <tr>\n",
       "      <th>2</th>\n",
       "      <td>1</td>\n",
       "      <td>0</td>\n",
       "      <td>0</td>\n",
       "      <td>0</td>\n",
       "      <td>0</td>\n",
       "      <td>0</td>\n",
       "      <td>1</td>\n",
       "      <td>0</td>\n",
       "      <td>0</td>\n",
       "      <td>0</td>\n",
       "      <td>...</td>\n",
       "      <td>January</td>\n",
       "      <td>0</td>\n",
       "      <td>Monday</td>\n",
       "      <td>1</td>\n",
       "      <td>Clear_Few Clouds</td>\n",
       "      <td>8.050924</td>\n",
       "      <td>9.47025</td>\n",
       "      <td>43.7273</td>\n",
       "      <td>16.636703</td>\n",
       "      <td>1349</td>\n",
       "    </tr>\n",
       "    <tr>\n",
       "      <th>3</th>\n",
       "      <td>1</td>\n",
       "      <td>0</td>\n",
       "      <td>0</td>\n",
       "      <td>0</td>\n",
       "      <td>0</td>\n",
       "      <td>0</td>\n",
       "      <td>1</td>\n",
       "      <td>0</td>\n",
       "      <td>0</td>\n",
       "      <td>0</td>\n",
       "      <td>...</td>\n",
       "      <td>January</td>\n",
       "      <td>0</td>\n",
       "      <td>Tuesday</td>\n",
       "      <td>1</td>\n",
       "      <td>Clear_Few Clouds</td>\n",
       "      <td>8.200000</td>\n",
       "      <td>10.60610</td>\n",
       "      <td>59.0435</td>\n",
       "      <td>10.739832</td>\n",
       "      <td>1562</td>\n",
       "    </tr>\n",
       "    <tr>\n",
       "      <th>4</th>\n",
       "      <td>1</td>\n",
       "      <td>0</td>\n",
       "      <td>0</td>\n",
       "      <td>0</td>\n",
       "      <td>0</td>\n",
       "      <td>0</td>\n",
       "      <td>1</td>\n",
       "      <td>0</td>\n",
       "      <td>0</td>\n",
       "      <td>0</td>\n",
       "      <td>...</td>\n",
       "      <td>January</td>\n",
       "      <td>0</td>\n",
       "      <td>Wednesday</td>\n",
       "      <td>1</td>\n",
       "      <td>Clear_Few Clouds</td>\n",
       "      <td>9.305237</td>\n",
       "      <td>11.46350</td>\n",
       "      <td>43.6957</td>\n",
       "      <td>12.522300</td>\n",
       "      <td>1600</td>\n",
       "    </tr>\n",
       "  </tbody>\n",
       "</table>\n",
       "<p>5 rows × 34 columns</p>\n",
       "</div>"
      ],
      "text/plain": [
       "   spring  summer  winter  August  December  Feburary  January  July  June  \\\n",
       "0       1       0       0       0         0         0        1     0     0   \n",
       "1       1       0       0       0         0         0        1     0     0   \n",
       "2       1       0       0       0         0         0        1     0     0   \n",
       "3       1       0       0       0         0         0        1     0     0   \n",
       "4       1       0       0       0         0         0        1     0     0   \n",
       "\n",
       "   March  ...     mnth  holiday    weekday  workingday        weathersit  \\\n",
       "0      0  ...  January        0   Saturday           0       Mist_cloudy   \n",
       "1      0  ...  January        0     Sunday           0       Mist_cloudy   \n",
       "2      0  ...  January        0     Monday           1  Clear_Few Clouds   \n",
       "3      0  ...  January        0    Tuesday           1  Clear_Few Clouds   \n",
       "4      0  ...  January        0  Wednesday           1  Clear_Few Clouds   \n",
       "\n",
       "        temp     atemp      hum  windspeed   cnt  \n",
       "0  14.110847  18.18125  80.5833  10.749882   985  \n",
       "1  14.902598  17.68695  69.6087  16.652113   801  \n",
       "2   8.050924   9.47025  43.7273  16.636703  1349  \n",
       "3   8.200000  10.60610  59.0435  10.739832  1562  \n",
       "4   9.305237  11.46350  43.6957  12.522300  1600  \n",
       "\n",
       "[5 rows x 34 columns]"
      ]
     },
     "execution_count": 22,
     "metadata": {},
     "output_type": "execute_result"
    }
   ],
   "source": [
    "# Combining the results to dataframe\n",
    "bike=pd.concat([dum1,dum2,dum3,dum4,df1],axis=1)\n",
    "bike.head()"
   ]
  },
  {
   "cell_type": "code",
   "execution_count": 23,
   "id": "991ffbc2",
   "metadata": {},
   "outputs": [
    {
     "data": {
      "text/html": [
       "<div>\n",
       "<style scoped>\n",
       "    .dataframe tbody tr th:only-of-type {\n",
       "        vertical-align: middle;\n",
       "    }\n",
       "\n",
       "    .dataframe tbody tr th {\n",
       "        vertical-align: top;\n",
       "    }\n",
       "\n",
       "    .dataframe thead th {\n",
       "        text-align: right;\n",
       "    }\n",
       "</style>\n",
       "<table border=\"1\" class=\"dataframe\">\n",
       "  <thead>\n",
       "    <tr style=\"text-align: right;\">\n",
       "      <th></th>\n",
       "      <th>spring</th>\n",
       "      <th>summer</th>\n",
       "      <th>winter</th>\n",
       "      <th>August</th>\n",
       "      <th>December</th>\n",
       "      <th>Feburary</th>\n",
       "      <th>January</th>\n",
       "      <th>July</th>\n",
       "      <th>June</th>\n",
       "      <th>March</th>\n",
       "      <th>...</th>\n",
       "      <th>Light rain_Light snow_Thunderstorm</th>\n",
       "      <th>Mist_cloudy</th>\n",
       "      <th>yr</th>\n",
       "      <th>holiday</th>\n",
       "      <th>workingday</th>\n",
       "      <th>temp</th>\n",
       "      <th>atemp</th>\n",
       "      <th>hum</th>\n",
       "      <th>windspeed</th>\n",
       "      <th>cnt</th>\n",
       "    </tr>\n",
       "  </thead>\n",
       "  <tbody>\n",
       "    <tr>\n",
       "      <th>0</th>\n",
       "      <td>1</td>\n",
       "      <td>0</td>\n",
       "      <td>0</td>\n",
       "      <td>0</td>\n",
       "      <td>0</td>\n",
       "      <td>0</td>\n",
       "      <td>1</td>\n",
       "      <td>0</td>\n",
       "      <td>0</td>\n",
       "      <td>0</td>\n",
       "      <td>...</td>\n",
       "      <td>0</td>\n",
       "      <td>1</td>\n",
       "      <td>0</td>\n",
       "      <td>0</td>\n",
       "      <td>0</td>\n",
       "      <td>14.110847</td>\n",
       "      <td>18.18125</td>\n",
       "      <td>80.5833</td>\n",
       "      <td>10.749882</td>\n",
       "      <td>985</td>\n",
       "    </tr>\n",
       "    <tr>\n",
       "      <th>1</th>\n",
       "      <td>1</td>\n",
       "      <td>0</td>\n",
       "      <td>0</td>\n",
       "      <td>0</td>\n",
       "      <td>0</td>\n",
       "      <td>0</td>\n",
       "      <td>1</td>\n",
       "      <td>0</td>\n",
       "      <td>0</td>\n",
       "      <td>0</td>\n",
       "      <td>...</td>\n",
       "      <td>0</td>\n",
       "      <td>1</td>\n",
       "      <td>0</td>\n",
       "      <td>0</td>\n",
       "      <td>0</td>\n",
       "      <td>14.902598</td>\n",
       "      <td>17.68695</td>\n",
       "      <td>69.6087</td>\n",
       "      <td>16.652113</td>\n",
       "      <td>801</td>\n",
       "    </tr>\n",
       "    <tr>\n",
       "      <th>2</th>\n",
       "      <td>1</td>\n",
       "      <td>0</td>\n",
       "      <td>0</td>\n",
       "      <td>0</td>\n",
       "      <td>0</td>\n",
       "      <td>0</td>\n",
       "      <td>1</td>\n",
       "      <td>0</td>\n",
       "      <td>0</td>\n",
       "      <td>0</td>\n",
       "      <td>...</td>\n",
       "      <td>0</td>\n",
       "      <td>0</td>\n",
       "      <td>0</td>\n",
       "      <td>0</td>\n",
       "      <td>1</td>\n",
       "      <td>8.050924</td>\n",
       "      <td>9.47025</td>\n",
       "      <td>43.7273</td>\n",
       "      <td>16.636703</td>\n",
       "      <td>1349</td>\n",
       "    </tr>\n",
       "    <tr>\n",
       "      <th>3</th>\n",
       "      <td>1</td>\n",
       "      <td>0</td>\n",
       "      <td>0</td>\n",
       "      <td>0</td>\n",
       "      <td>0</td>\n",
       "      <td>0</td>\n",
       "      <td>1</td>\n",
       "      <td>0</td>\n",
       "      <td>0</td>\n",
       "      <td>0</td>\n",
       "      <td>...</td>\n",
       "      <td>0</td>\n",
       "      <td>0</td>\n",
       "      <td>0</td>\n",
       "      <td>0</td>\n",
       "      <td>1</td>\n",
       "      <td>8.200000</td>\n",
       "      <td>10.60610</td>\n",
       "      <td>59.0435</td>\n",
       "      <td>10.739832</td>\n",
       "      <td>1562</td>\n",
       "    </tr>\n",
       "    <tr>\n",
       "      <th>4</th>\n",
       "      <td>1</td>\n",
       "      <td>0</td>\n",
       "      <td>0</td>\n",
       "      <td>0</td>\n",
       "      <td>0</td>\n",
       "      <td>0</td>\n",
       "      <td>1</td>\n",
       "      <td>0</td>\n",
       "      <td>0</td>\n",
       "      <td>0</td>\n",
       "      <td>...</td>\n",
       "      <td>0</td>\n",
       "      <td>0</td>\n",
       "      <td>0</td>\n",
       "      <td>0</td>\n",
       "      <td>1</td>\n",
       "      <td>9.305237</td>\n",
       "      <td>11.46350</td>\n",
       "      <td>43.6957</td>\n",
       "      <td>12.522300</td>\n",
       "      <td>1600</td>\n",
       "    </tr>\n",
       "  </tbody>\n",
       "</table>\n",
       "<p>5 rows × 30 columns</p>\n",
       "</div>"
      ],
      "text/plain": [
       "   spring  summer  winter  August  December  Feburary  January  July  June  \\\n",
       "0       1       0       0       0         0         0        1     0     0   \n",
       "1       1       0       0       0         0         0        1     0     0   \n",
       "2       1       0       0       0         0         0        1     0     0   \n",
       "3       1       0       0       0         0         0        1     0     0   \n",
       "4       1       0       0       0         0         0        1     0     0   \n",
       "\n",
       "   March  ...  Light rain_Light snow_Thunderstorm  Mist_cloudy  yr  holiday  \\\n",
       "0      0  ...                                   0            1   0        0   \n",
       "1      0  ...                                   0            1   0        0   \n",
       "2      0  ...                                   0            0   0        0   \n",
       "3      0  ...                                   0            0   0        0   \n",
       "4      0  ...                                   0            0   0        0   \n",
       "\n",
       "   workingday       temp     atemp      hum  windspeed   cnt  \n",
       "0           0  14.110847  18.18125  80.5833  10.749882   985  \n",
       "1           0  14.902598  17.68695  69.6087  16.652113   801  \n",
       "2           1   8.050924   9.47025  43.7273  16.636703  1349  \n",
       "3           1   8.200000  10.60610  59.0435  10.739832  1562  \n",
       "4           1   9.305237  11.46350  43.6957  12.522300  1600  \n",
       "\n",
       "[5 rows x 30 columns]"
      ]
     },
     "execution_count": 23,
     "metadata": {},
     "output_type": "execute_result"
    }
   ],
   "source": [
    "# Drop 'season','mnth','weekday','weathersit' \n",
    "bike.drop(['season','mnth','weekday','weathersit'],axis=1,inplace=True)\n",
    "bike.head()"
   ]
  },
  {
   "cell_type": "markdown",
   "id": "55929fc0",
   "metadata": {},
   "source": [
    "## Train Test Split"
   ]
  },
  {
   "cell_type": "code",
   "execution_count": 24,
   "id": "46fa036e",
   "metadata": {},
   "outputs": [],
   "source": [
    "x=bike.drop([\"cnt\"],axis=1)\n",
    "y=bike[\"cnt\"]"
   ]
  },
  {
   "cell_type": "code",
   "execution_count": 25,
   "id": "722c793f",
   "metadata": {},
   "outputs": [],
   "source": [
    "x_train,x_test,y_train,y_test=train_test_split(x,y,test_size=0.3,random_state=100)"
   ]
  },
  {
   "cell_type": "code",
   "execution_count": 26,
   "id": "51e87203",
   "metadata": {},
   "outputs": [
    {
     "data": {
      "text/plain": [
       "(511, 29)"
      ]
     },
     "execution_count": 26,
     "metadata": {},
     "output_type": "execute_result"
    }
   ],
   "source": [
    "x_train.shape"
   ]
  },
  {
   "cell_type": "code",
   "execution_count": 27,
   "id": "3dd55ca8",
   "metadata": {},
   "outputs": [
    {
     "data": {
      "text/plain": [
       "(219, 29)"
      ]
     },
     "execution_count": 27,
     "metadata": {},
     "output_type": "execute_result"
    }
   ],
   "source": [
    "x_test.shape"
   ]
  },
  {
   "cell_type": "markdown",
   "id": "911e6ac7",
   "metadata": {},
   "source": [
    "## Scaling Data"
   ]
  },
  {
   "cell_type": "code",
   "execution_count": 28,
   "id": "9d9653d2",
   "metadata": {},
   "outputs": [],
   "source": [
    "#Instantiate an object\n",
    "scaler = MinMaxScaler()"
   ]
  },
  {
   "cell_type": "code",
   "execution_count": 29,
   "id": "9c2cf9aa",
   "metadata": {},
   "outputs": [
    {
     "data": {
      "text/html": [
       "<div>\n",
       "<style scoped>\n",
       "    .dataframe tbody tr th:only-of-type {\n",
       "        vertical-align: middle;\n",
       "    }\n",
       "\n",
       "    .dataframe tbody tr th {\n",
       "        vertical-align: top;\n",
       "    }\n",
       "\n",
       "    .dataframe thead th {\n",
       "        text-align: right;\n",
       "    }\n",
       "</style>\n",
       "<table border=\"1\" class=\"dataframe\">\n",
       "  <thead>\n",
       "    <tr style=\"text-align: right;\">\n",
       "      <th></th>\n",
       "      <th>spring</th>\n",
       "      <th>summer</th>\n",
       "      <th>winter</th>\n",
       "      <th>August</th>\n",
       "      <th>December</th>\n",
       "      <th>Feburary</th>\n",
       "      <th>January</th>\n",
       "      <th>July</th>\n",
       "      <th>June</th>\n",
       "      <th>March</th>\n",
       "      <th>...</th>\n",
       "      <th>Wednesday</th>\n",
       "      <th>Light rain_Light snow_Thunderstorm</th>\n",
       "      <th>Mist_cloudy</th>\n",
       "      <th>yr</th>\n",
       "      <th>holiday</th>\n",
       "      <th>workingday</th>\n",
       "      <th>temp</th>\n",
       "      <th>atemp</th>\n",
       "      <th>hum</th>\n",
       "      <th>windspeed</th>\n",
       "    </tr>\n",
       "  </thead>\n",
       "  <tbody>\n",
       "    <tr>\n",
       "      <th>653</th>\n",
       "      <td>0</td>\n",
       "      <td>0</td>\n",
       "      <td>1</td>\n",
       "      <td>0</td>\n",
       "      <td>0</td>\n",
       "      <td>0</td>\n",
       "      <td>0</td>\n",
       "      <td>0</td>\n",
       "      <td>0</td>\n",
       "      <td>0</td>\n",
       "      <td>...</td>\n",
       "      <td>0</td>\n",
       "      <td>0</td>\n",
       "      <td>0</td>\n",
       "      <td>1</td>\n",
       "      <td>0</td>\n",
       "      <td>1</td>\n",
       "      <td>0.509887</td>\n",
       "      <td>0.501133</td>\n",
       "      <td>0.575354</td>\n",
       "      <td>0.300794</td>\n",
       "    </tr>\n",
       "    <tr>\n",
       "      <th>576</th>\n",
       "      <td>0</td>\n",
       "      <td>0</td>\n",
       "      <td>0</td>\n",
       "      <td>0</td>\n",
       "      <td>0</td>\n",
       "      <td>0</td>\n",
       "      <td>0</td>\n",
       "      <td>1</td>\n",
       "      <td>0</td>\n",
       "      <td>0</td>\n",
       "      <td>...</td>\n",
       "      <td>0</td>\n",
       "      <td>0</td>\n",
       "      <td>0</td>\n",
       "      <td>1</td>\n",
       "      <td>0</td>\n",
       "      <td>1</td>\n",
       "      <td>0.815169</td>\n",
       "      <td>0.766351</td>\n",
       "      <td>0.725633</td>\n",
       "      <td>0.264686</td>\n",
       "    </tr>\n",
       "    <tr>\n",
       "      <th>426</th>\n",
       "      <td>1</td>\n",
       "      <td>0</td>\n",
       "      <td>0</td>\n",
       "      <td>0</td>\n",
       "      <td>0</td>\n",
       "      <td>0</td>\n",
       "      <td>0</td>\n",
       "      <td>0</td>\n",
       "      <td>0</td>\n",
       "      <td>1</td>\n",
       "      <td>...</td>\n",
       "      <td>0</td>\n",
       "      <td>0</td>\n",
       "      <td>1</td>\n",
       "      <td>1</td>\n",
       "      <td>0</td>\n",
       "      <td>0</td>\n",
       "      <td>0.442393</td>\n",
       "      <td>0.438975</td>\n",
       "      <td>0.640189</td>\n",
       "      <td>0.255342</td>\n",
       "    </tr>\n",
       "    <tr>\n",
       "      <th>728</th>\n",
       "      <td>1</td>\n",
       "      <td>0</td>\n",
       "      <td>0</td>\n",
       "      <td>0</td>\n",
       "      <td>1</td>\n",
       "      <td>0</td>\n",
       "      <td>0</td>\n",
       "      <td>0</td>\n",
       "      <td>0</td>\n",
       "      <td>0</td>\n",
       "      <td>...</td>\n",
       "      <td>0</td>\n",
       "      <td>0</td>\n",
       "      <td>0</td>\n",
       "      <td>1</td>\n",
       "      <td>0</td>\n",
       "      <td>0</td>\n",
       "      <td>0.245101</td>\n",
       "      <td>0.200348</td>\n",
       "      <td>0.498067</td>\n",
       "      <td>0.663106</td>\n",
       "    </tr>\n",
       "    <tr>\n",
       "      <th>482</th>\n",
       "      <td>0</td>\n",
       "      <td>1</td>\n",
       "      <td>0</td>\n",
       "      <td>0</td>\n",
       "      <td>0</td>\n",
       "      <td>0</td>\n",
       "      <td>0</td>\n",
       "      <td>0</td>\n",
       "      <td>0</td>\n",
       "      <td>0</td>\n",
       "      <td>...</td>\n",
       "      <td>0</td>\n",
       "      <td>0</td>\n",
       "      <td>1</td>\n",
       "      <td>1</td>\n",
       "      <td>0</td>\n",
       "      <td>0</td>\n",
       "      <td>0.395666</td>\n",
       "      <td>0.391735</td>\n",
       "      <td>0.504508</td>\n",
       "      <td>0.188475</td>\n",
       "    </tr>\n",
       "  </tbody>\n",
       "</table>\n",
       "<p>5 rows × 29 columns</p>\n",
       "</div>"
      ],
      "text/plain": [
       "     spring  summer  winter  August  December  Feburary  January  July  June  \\\n",
       "653       0       0       1       0         0         0        0     0     0   \n",
       "576       0       0       0       0         0         0        0     1     0   \n",
       "426       1       0       0       0         0         0        0     0     0   \n",
       "728       1       0       0       0         1         0        0     0     0   \n",
       "482       0       1       0       0         0         0        0     0     0   \n",
       "\n",
       "     March  ...  Wednesday  Light rain_Light snow_Thunderstorm  Mist_cloudy  \\\n",
       "653      0  ...          0                                   0            0   \n",
       "576      0  ...          0                                   0            0   \n",
       "426      1  ...          0                                   0            1   \n",
       "728      0  ...          0                                   0            0   \n",
       "482      0  ...          0                                   0            1   \n",
       "\n",
       "     yr  holiday  workingday      temp     atemp       hum  windspeed  \n",
       "653   1        0           1  0.509887  0.501133  0.575354   0.300794  \n",
       "576   1        0           1  0.815169  0.766351  0.725633   0.264686  \n",
       "426   1        0           0  0.442393  0.438975  0.640189   0.255342  \n",
       "728   1        0           0  0.245101  0.200348  0.498067   0.663106  \n",
       "482   1        0           0  0.395666  0.391735  0.504508   0.188475  \n",
       "\n",
       "[5 rows x 29 columns]"
      ]
     },
     "execution_count": 29,
     "metadata": {},
     "output_type": "execute_result"
    }
   ],
   "source": [
    "x_train[cont_cols] = scaler.fit_transform(x_train[cont_cols])\n",
    "x_train.head()"
   ]
  },
  {
   "cell_type": "code",
   "execution_count": 30,
   "id": "f5ec2d8e",
   "metadata": {},
   "outputs": [],
   "source": [
    "x_test[cont_cols] = scaler.fit_transform(x_test[cont_cols])"
   ]
  },
  {
   "cell_type": "markdown",
   "id": "334b29f6",
   "metadata": {},
   "source": [
    "## Modelling"
   ]
  },
  {
   "cell_type": "markdown",
   "id": "a2411f33",
   "metadata": {},
   "source": [
    "### Feature Selection - Recursive Feature Eimination"
   ]
  },
  {
   "cell_type": "code",
   "execution_count": 31,
   "id": "8c4fbbfe",
   "metadata": {},
   "outputs": [
    {
     "data": {
      "text/plain": [
       "['spring',\n",
       " 'summer',\n",
       " 'winter',\n",
       " 'January',\n",
       " 'July',\n",
       " 'September',\n",
       " 'Saturday',\n",
       " 'Light rain_Light snow_Thunderstorm',\n",
       " 'Mist_cloudy',\n",
       " 'yr',\n",
       " 'holiday',\n",
       " 'workingday',\n",
       " 'temp',\n",
       " 'hum',\n",
       " 'windspeed']"
      ]
     },
     "execution_count": 31,
     "metadata": {},
     "output_type": "execute_result"
    }
   ],
   "source": [
    "estimator=LinearRegression()\n",
    "selector=RFE(estimator,n_features_to_select=15)\n",
    "\n",
    "selector=selector.fit(x_train,y_train)\n",
    "selected_features=list(x_train.columns[selector.support_])\n",
    "selected_features"
   ]
  },
  {
   "cell_type": "code",
   "execution_count": 32,
   "id": "92dcfdb2",
   "metadata": {},
   "outputs": [],
   "source": [
    "x_train=x_train[selected_features]\n",
    "x_test=x_test[selected_features]"
   ]
  },
  {
   "cell_type": "code",
   "execution_count": 33,
   "id": "e5e9ea39",
   "metadata": {},
   "outputs": [],
   "source": [
    "x_train_sm=sm.add_constant(x_train)\n",
    "x_test_sm=sm.add_constant(x_test)"
   ]
  },
  {
   "cell_type": "code",
   "execution_count": 34,
   "id": "b1df2471",
   "metadata": {},
   "outputs": [
    {
     "data": {
      "text/html": [
       "<table class=\"simpletable\">\n",
       "<caption>OLS Regression Results</caption>\n",
       "<tr>\n",
       "  <th>Dep. Variable:</th>           <td>cnt</td>       <th>  R-squared:         </th> <td>   0.848</td> \n",
       "</tr>\n",
       "<tr>\n",
       "  <th>Model:</th>                   <td>OLS</td>       <th>  Adj. R-squared:    </th> <td>   0.844</td> \n",
       "</tr>\n",
       "<tr>\n",
       "  <th>Method:</th>             <td>Least Squares</td>  <th>  F-statistic:       </th> <td>   184.5</td> \n",
       "</tr>\n",
       "<tr>\n",
       "  <th>Date:</th>             <td>Thu, 27 Apr 2023</td> <th>  Prob (F-statistic):</th> <td>1.50e-191</td>\n",
       "</tr>\n",
       "<tr>\n",
       "  <th>Time:</th>                 <td>16:58:02</td>     <th>  Log-Likelihood:    </th> <td> -4114.8</td> \n",
       "</tr>\n",
       "<tr>\n",
       "  <th>No. Observations:</th>      <td>   511</td>      <th>  AIC:               </th> <td>   8262.</td> \n",
       "</tr>\n",
       "<tr>\n",
       "  <th>Df Residuals:</th>          <td>   495</td>      <th>  BIC:               </th> <td>   8329.</td> \n",
       "</tr>\n",
       "<tr>\n",
       "  <th>Df Model:</th>              <td>    15</td>      <th>                     </th>     <td> </td>    \n",
       "</tr>\n",
       "<tr>\n",
       "  <th>Covariance Type:</th>      <td>nonrobust</td>    <th>                     </th>     <td> </td>    \n",
       "</tr>\n",
       "</table>\n",
       "<table class=\"simpletable\">\n",
       "<tr>\n",
       "                   <td></td>                     <th>coef</th>     <th>std err</th>      <th>t</th>      <th>P>|t|</th>  <th>[0.025</th>    <th>0.975]</th>  \n",
       "</tr>\n",
       "<tr>\n",
       "  <th>const</th>                              <td> 2206.7691</td> <td>  314.541</td> <td>    7.016</td> <td> 0.000</td> <td> 1588.770</td> <td> 2824.769</td>\n",
       "</tr>\n",
       "<tr>\n",
       "  <th>spring</th>                             <td> -439.3779</td> <td>  179.750</td> <td>   -2.444</td> <td> 0.015</td> <td> -792.545</td> <td>  -86.211</td>\n",
       "</tr>\n",
       "<tr>\n",
       "  <th>summer</th>                             <td>  442.3136</td> <td>  129.046</td> <td>    3.428</td> <td> 0.001</td> <td>  188.768</td> <td>  695.859</td>\n",
       "</tr>\n",
       "<tr>\n",
       "  <th>winter</th>                             <td>  823.3397</td> <td>  150.044</td> <td>    5.487</td> <td> 0.000</td> <td>  528.538</td> <td> 1118.142</td>\n",
       "</tr>\n",
       "<tr>\n",
       "  <th>January</th>                            <td> -298.4753</td> <td>  150.964</td> <td>   -1.977</td> <td> 0.049</td> <td> -595.085</td> <td>   -1.865</td>\n",
       "</tr>\n",
       "<tr>\n",
       "  <th>July</th>                               <td> -461.8136</td> <td>  157.127</td> <td>   -2.939</td> <td> 0.003</td> <td> -770.531</td> <td> -153.096</td>\n",
       "</tr>\n",
       "<tr>\n",
       "  <th>September</th>                          <td>  705.8967</td> <td>  143.243</td> <td>    4.928</td> <td> 0.000</td> <td>  424.457</td> <td>  987.336</td>\n",
       "</tr>\n",
       "<tr>\n",
       "  <th>Saturday</th>                           <td>  466.0363</td> <td>  126.162</td> <td>    3.694</td> <td> 0.000</td> <td>  218.158</td> <td>  713.914</td>\n",
       "</tr>\n",
       "<tr>\n",
       "  <th>Light rain_Light snow_Thunderstorm</th> <td>-2154.6073</td> <td>  226.496</td> <td>   -9.513</td> <td> 0.000</td> <td>-2599.620</td> <td>-1709.594</td>\n",
       "</tr>\n",
       "<tr>\n",
       "  <th>Mist_cloudy</th>                        <td> -492.1456</td> <td>   90.091</td> <td>   -5.463</td> <td> 0.000</td> <td> -669.154</td> <td> -315.137</td>\n",
       "</tr>\n",
       "<tr>\n",
       "  <th>yr</th>                                 <td> 2007.6643</td> <td>   69.617</td> <td>   28.839</td> <td> 0.000</td> <td> 1870.884</td> <td> 2144.445</td>\n",
       "</tr>\n",
       "<tr>\n",
       "  <th>holiday</th>                            <td> -506.7813</td> <td>  233.946</td> <td>   -2.166</td> <td> 0.031</td> <td> -966.431</td> <td>  -47.132</td>\n",
       "</tr>\n",
       "<tr>\n",
       "  <th>workingday</th>                         <td>  380.7061</td> <td>  100.209</td> <td>    3.799</td> <td> 0.000</td> <td>  183.819</td> <td>  577.594</td>\n",
       "</tr>\n",
       "<tr>\n",
       "  <th>temp</th>                               <td> 4437.9745</td> <td>  298.850</td> <td>   14.850</td> <td> 0.000</td> <td> 3850.804</td> <td> 5025.145</td>\n",
       "</tr>\n",
       "<tr>\n",
       "  <th>hum</th>                                <td>-1366.6057</td> <td>  324.706</td> <td>   -4.209</td> <td> 0.000</td> <td>-2004.578</td> <td> -728.633</td>\n",
       "</tr>\n",
       "<tr>\n",
       "  <th>windspeed</th>                          <td>-1619.1366</td> <td>  221.733</td> <td>   -7.302</td> <td> 0.000</td> <td>-2054.791</td> <td>-1183.482</td>\n",
       "</tr>\n",
       "</table>\n",
       "<table class=\"simpletable\">\n",
       "<tr>\n",
       "  <th>Omnibus:</th>       <td>66.238</td> <th>  Durbin-Watson:     </th> <td>   2.071</td>\n",
       "</tr>\n",
       "<tr>\n",
       "  <th>Prob(Omnibus):</th> <td> 0.000</td> <th>  Jarque-Bera (JB):  </th> <td> 159.707</td>\n",
       "</tr>\n",
       "<tr>\n",
       "  <th>Skew:</th>          <td>-0.677</td> <th>  Prob(JB):          </th> <td>2.09e-35</td>\n",
       "</tr>\n",
       "<tr>\n",
       "  <th>Kurtosis:</th>      <td> 5.381</td> <th>  Cond. No.          </th> <td>    22.1</td>\n",
       "</tr>\n",
       "</table><br/><br/>Notes:<br/>[1] Standard Errors assume that the covariance matrix of the errors is correctly specified."
      ],
      "text/plain": [
       "<class 'statsmodels.iolib.summary.Summary'>\n",
       "\"\"\"\n",
       "                            OLS Regression Results                            \n",
       "==============================================================================\n",
       "Dep. Variable:                    cnt   R-squared:                       0.848\n",
       "Model:                            OLS   Adj. R-squared:                  0.844\n",
       "Method:                 Least Squares   F-statistic:                     184.5\n",
       "Date:                Thu, 27 Apr 2023   Prob (F-statistic):          1.50e-191\n",
       "Time:                        16:58:02   Log-Likelihood:                -4114.8\n",
       "No. Observations:                 511   AIC:                             8262.\n",
       "Df Residuals:                     495   BIC:                             8329.\n",
       "Df Model:                          15                                         \n",
       "Covariance Type:            nonrobust                                         \n",
       "======================================================================================================\n",
       "                                         coef    std err          t      P>|t|      [0.025      0.975]\n",
       "------------------------------------------------------------------------------------------------------\n",
       "const                               2206.7691    314.541      7.016      0.000    1588.770    2824.769\n",
       "spring                              -439.3779    179.750     -2.444      0.015    -792.545     -86.211\n",
       "summer                               442.3136    129.046      3.428      0.001     188.768     695.859\n",
       "winter                               823.3397    150.044      5.487      0.000     528.538    1118.142\n",
       "January                             -298.4753    150.964     -1.977      0.049    -595.085      -1.865\n",
       "July                                -461.8136    157.127     -2.939      0.003    -770.531    -153.096\n",
       "September                            705.8967    143.243      4.928      0.000     424.457     987.336\n",
       "Saturday                             466.0363    126.162      3.694      0.000     218.158     713.914\n",
       "Light rain_Light snow_Thunderstorm -2154.6073    226.496     -9.513      0.000   -2599.620   -1709.594\n",
       "Mist_cloudy                         -492.1456     90.091     -5.463      0.000    -669.154    -315.137\n",
       "yr                                  2007.6643     69.617     28.839      0.000    1870.884    2144.445\n",
       "holiday                             -506.7813    233.946     -2.166      0.031    -966.431     -47.132\n",
       "workingday                           380.7061    100.209      3.799      0.000     183.819     577.594\n",
       "temp                                4437.9745    298.850     14.850      0.000    3850.804    5025.145\n",
       "hum                                -1366.6057    324.706     -4.209      0.000   -2004.578    -728.633\n",
       "windspeed                          -1619.1366    221.733     -7.302      0.000   -2054.791   -1183.482\n",
       "==============================================================================\n",
       "Omnibus:                       66.238   Durbin-Watson:                   2.071\n",
       "Prob(Omnibus):                  0.000   Jarque-Bera (JB):              159.707\n",
       "Skew:                          -0.677   Prob(JB):                     2.09e-35\n",
       "Kurtosis:                       5.381   Cond. No.                         22.1\n",
       "==============================================================================\n",
       "\n",
       "Notes:\n",
       "[1] Standard Errors assume that the covariance matrix of the errors is correctly specified.\n",
       "\"\"\""
      ]
     },
     "execution_count": 34,
     "metadata": {},
     "output_type": "execute_result"
    }
   ],
   "source": [
    "model1=sm.OLS(y_train,x_train_sm)\n",
    "res1=model1.fit()\n",
    "res1.summary()"
   ]
  },
  {
   "cell_type": "markdown",
   "id": "887be2c6",
   "metadata": {},
   "source": [
    "## Variance Inflation Factor"
   ]
  },
  {
   "cell_type": "code",
   "execution_count": 35,
   "id": "f9792b83",
   "metadata": {},
   "outputs": [],
   "source": [
    "# Generic function to calculate VIF of variables\n",
    "\n",
    "def cal_VIF(df):\n",
    "    vif = pd.DataFrame()\n",
    "    vif['Features'] = df.columns\n",
    "    vif['VIF'] = [variance_inflation_factor(df.values, i) for i in range(df.shape[1])]\n",
    "    vif['VIF'] = round(vif['VIF'], 2)\n",
    "    vif = vif.sort_values(by = \"VIF\", ascending = False)\n",
    "    return vif "
   ]
  },
  {
   "cell_type": "code",
   "execution_count": 36,
   "id": "4ed6324d",
   "metadata": {},
   "outputs": [
    {
     "data": {
      "text/html": [
       "<div>\n",
       "<style scoped>\n",
       "    .dataframe tbody tr th:only-of-type {\n",
       "        vertical-align: middle;\n",
       "    }\n",
       "\n",
       "    .dataframe tbody tr th {\n",
       "        vertical-align: top;\n",
       "    }\n",
       "\n",
       "    .dataframe thead th {\n",
       "        text-align: right;\n",
       "    }\n",
       "</style>\n",
       "<table border=\"1\" class=\"dataframe\">\n",
       "  <thead>\n",
       "    <tr style=\"text-align: right;\">\n",
       "      <th></th>\n",
       "      <th>Features</th>\n",
       "      <th>VIF</th>\n",
       "    </tr>\n",
       "  </thead>\n",
       "  <tbody>\n",
       "    <tr>\n",
       "      <th>13</th>\n",
       "      <td>hum</td>\n",
       "      <td>29.39</td>\n",
       "    </tr>\n",
       "    <tr>\n",
       "      <th>12</th>\n",
       "      <td>temp</td>\n",
       "      <td>17.80</td>\n",
       "    </tr>\n",
       "    <tr>\n",
       "      <th>11</th>\n",
       "      <td>workingday</td>\n",
       "      <td>5.32</td>\n",
       "    </tr>\n",
       "    <tr>\n",
       "      <th>14</th>\n",
       "      <td>windspeed</td>\n",
       "      <td>4.73</td>\n",
       "    </tr>\n",
       "    <tr>\n",
       "      <th>0</th>\n",
       "      <td>spring</td>\n",
       "      <td>4.53</td>\n",
       "    </tr>\n",
       "    <tr>\n",
       "      <th>2</th>\n",
       "      <td>winter</td>\n",
       "      <td>3.48</td>\n",
       "    </tr>\n",
       "    <tr>\n",
       "      <th>1</th>\n",
       "      <td>summer</td>\n",
       "      <td>2.85</td>\n",
       "    </tr>\n",
       "    <tr>\n",
       "      <th>8</th>\n",
       "      <td>Mist_cloudy</td>\n",
       "      <td>2.29</td>\n",
       "    </tr>\n",
       "    <tr>\n",
       "      <th>9</th>\n",
       "      <td>yr</td>\n",
       "      <td>2.09</td>\n",
       "    </tr>\n",
       "    <tr>\n",
       "      <th>6</th>\n",
       "      <td>Saturday</td>\n",
       "      <td>1.98</td>\n",
       "    </tr>\n",
       "    <tr>\n",
       "      <th>3</th>\n",
       "      <td>January</td>\n",
       "      <td>1.67</td>\n",
       "    </tr>\n",
       "    <tr>\n",
       "      <th>4</th>\n",
       "      <td>July</td>\n",
       "      <td>1.59</td>\n",
       "    </tr>\n",
       "    <tr>\n",
       "      <th>5</th>\n",
       "      <td>September</td>\n",
       "      <td>1.39</td>\n",
       "    </tr>\n",
       "    <tr>\n",
       "      <th>7</th>\n",
       "      <td>Light rain_Light snow_Thunderstorm</td>\n",
       "      <td>1.24</td>\n",
       "    </tr>\n",
       "    <tr>\n",
       "      <th>10</th>\n",
       "      <td>holiday</td>\n",
       "      <td>1.18</td>\n",
       "    </tr>\n",
       "  </tbody>\n",
       "</table>\n",
       "</div>"
      ],
      "text/plain": [
       "                              Features    VIF\n",
       "13                                 hum  29.39\n",
       "12                                temp  17.80\n",
       "11                          workingday   5.32\n",
       "14                           windspeed   4.73\n",
       "0                               spring   4.53\n",
       "2                               winter   3.48\n",
       "1                               summer   2.85\n",
       "8                          Mist_cloudy   2.29\n",
       "9                                   yr   2.09\n",
       "6                             Saturday   1.98\n",
       "3                              January   1.67\n",
       "4                                 July   1.59\n",
       "5                            September   1.39\n",
       "7   Light rain_Light snow_Thunderstorm   1.24\n",
       "10                             holiday   1.18"
      ]
     },
     "execution_count": 36,
     "metadata": {},
     "output_type": "execute_result"
    }
   ],
   "source": [
    "cal_VIF(x_train)"
   ]
  },
  {
   "cell_type": "code",
   "execution_count": 37,
   "id": "b4d41e0a",
   "metadata": {},
   "outputs": [],
   "source": [
    "x_train=x_train.drop([\"hum\"],axis=1)\n",
    "x_test=x_test.drop([\"hum\"],axis=1)"
   ]
  },
  {
   "cell_type": "code",
   "execution_count": 38,
   "id": "e9cc5320",
   "metadata": {},
   "outputs": [],
   "source": [
    "x_train_sm=sm.add_constant(x_train)\n",
    "x_test_sm=sm.add_constant(x_test)"
   ]
  },
  {
   "cell_type": "code",
   "execution_count": 39,
   "id": "dccf7e74",
   "metadata": {},
   "outputs": [
    {
     "data": {
      "text/html": [
       "<table class=\"simpletable\">\n",
       "<caption>OLS Regression Results</caption>\n",
       "<tr>\n",
       "  <th>Dep. Variable:</th>           <td>cnt</td>       <th>  R-squared:         </th> <td>   0.843</td> \n",
       "</tr>\n",
       "<tr>\n",
       "  <th>Model:</th>                   <td>OLS</td>       <th>  Adj. R-squared:    </th> <td>   0.838</td> \n",
       "</tr>\n",
       "<tr>\n",
       "  <th>Method:</th>             <td>Least Squares</td>  <th>  F-statistic:       </th> <td>   190.0</td> \n",
       "</tr>\n",
       "<tr>\n",
       "  <th>Date:</th>             <td>Thu, 27 Apr 2023</td> <th>  Prob (F-statistic):</th> <td>6.18e-189</td>\n",
       "</tr>\n",
       "<tr>\n",
       "  <th>Time:</th>                 <td>16:58:02</td>     <th>  Log-Likelihood:    </th> <td> -4123.8</td> \n",
       "</tr>\n",
       "<tr>\n",
       "  <th>No. Observations:</th>      <td>   511</td>      <th>  AIC:               </th> <td>   8278.</td> \n",
       "</tr>\n",
       "<tr>\n",
       "  <th>Df Residuals:</th>          <td>   496</td>      <th>  BIC:               </th> <td>   8341.</td> \n",
       "</tr>\n",
       "<tr>\n",
       "  <th>Df Model:</th>              <td>    14</td>      <th>                     </th>     <td> </td>    \n",
       "</tr>\n",
       "<tr>\n",
       "  <th>Covariance Type:</th>      <td>nonrobust</td>    <th>                     </th>     <td> </td>    \n",
       "</tr>\n",
       "</table>\n",
       "<table class=\"simpletable\">\n",
       "<tr>\n",
       "                   <td></td>                     <th>coef</th>     <th>std err</th>      <th>t</th>      <th>P>|t|</th>  <th>[0.025</th>    <th>0.975]</th>  \n",
       "</tr>\n",
       "<tr>\n",
       "  <th>const</th>                              <td> 1522.3973</td> <td>  273.747</td> <td>    5.561</td> <td> 0.000</td> <td>  984.550</td> <td> 2060.244</td>\n",
       "</tr>\n",
       "<tr>\n",
       "  <th>spring</th>                             <td> -517.8708</td> <td>  181.767</td> <td>   -2.849</td> <td> 0.005</td> <td> -874.999</td> <td> -160.743</td>\n",
       "</tr>\n",
       "<tr>\n",
       "  <th>summer</th>                             <td>  387.6602</td> <td>  130.536</td> <td>    2.970</td> <td> 0.003</td> <td>  131.188</td> <td>  644.133</td>\n",
       "</tr>\n",
       "<tr>\n",
       "  <th>winter</th>                             <td>  693.3129</td> <td>  149.282</td> <td>    4.644</td> <td> 0.000</td> <td>  400.009</td> <td>  986.617</td>\n",
       "</tr>\n",
       "<tr>\n",
       "  <th>January</th>                            <td> -339.3758</td> <td>  153.168</td> <td>   -2.216</td> <td> 0.027</td> <td> -640.315</td> <td>  -38.437</td>\n",
       "</tr>\n",
       "<tr>\n",
       "  <th>July</th>                               <td> -417.7679</td> <td>  159.397</td> <td>   -2.621</td> <td> 0.009</td> <td> -730.945</td> <td> -104.591</td>\n",
       "</tr>\n",
       "<tr>\n",
       "  <th>September</th>                          <td>  654.0040</td> <td>  145.096</td> <td>    4.507</td> <td> 0.000</td> <td>  368.926</td> <td>  939.082</td>\n",
       "</tr>\n",
       "<tr>\n",
       "  <th>Saturday</th>                           <td>  507.6340</td> <td>  127.875</td> <td>    3.970</td> <td> 0.000</td> <td>  256.390</td> <td>  758.878</td>\n",
       "</tr>\n",
       "<tr>\n",
       "  <th>Light rain_Light snow_Thunderstorm</th> <td>-2533.7977</td> <td>  211.278</td> <td>  -11.993</td> <td> 0.000</td> <td>-2948.909</td> <td>-2118.687</td>\n",
       "</tr>\n",
       "<tr>\n",
       "  <th>Mist_cloudy</th>                        <td> -710.4234</td> <td>   74.897</td> <td>   -9.485</td> <td> 0.000</td> <td> -857.578</td> <td> -563.269</td>\n",
       "</tr>\n",
       "<tr>\n",
       "  <th>yr</th>                                 <td> 2042.2594</td> <td>   70.285</td> <td>   29.057</td> <td> 0.000</td> <td> 1904.167</td> <td> 2180.352</td>\n",
       "</tr>\n",
       "<tr>\n",
       "  <th>holiday</th>                            <td> -485.9446</td> <td>  237.801</td> <td>   -2.043</td> <td> 0.042</td> <td> -953.167</td> <td>  -18.722</td>\n",
       "</tr>\n",
       "<tr>\n",
       "  <th>workingday</th>                         <td>  407.3465</td> <td>  101.680</td> <td>    4.006</td> <td> 0.000</td> <td>  207.570</td> <td>  607.123</td>\n",
       "</tr>\n",
       "<tr>\n",
       "  <th>temp</th>                               <td> 4111.1718</td> <td>  293.408</td> <td>   14.012</td> <td> 0.000</td> <td> 3534.696</td> <td> 4687.647</td>\n",
       "</tr>\n",
       "<tr>\n",
       "  <th>windspeed</th>                          <td>-1356.7226</td> <td>  216.342</td> <td>   -6.271</td> <td> 0.000</td> <td>-1781.782</td> <td> -931.663</td>\n",
       "</tr>\n",
       "</table>\n",
       "<table class=\"simpletable\">\n",
       "<tr>\n",
       "  <th>Omnibus:</th>       <td>67.777</td> <th>  Durbin-Watson:     </th> <td>   2.067</td>\n",
       "</tr>\n",
       "<tr>\n",
       "  <th>Prob(Omnibus):</th> <td> 0.000</td> <th>  Jarque-Bera (JB):  </th> <td> 164.366</td>\n",
       "</tr>\n",
       "<tr>\n",
       "  <th>Skew:</th>          <td>-0.690</td> <th>  Prob(JB):          </th> <td>2.03e-36</td>\n",
       "</tr>\n",
       "<tr>\n",
       "  <th>Kurtosis:</th>      <td> 5.411</td> <th>  Cond. No.          </th> <td>    20.1</td>\n",
       "</tr>\n",
       "</table><br/><br/>Notes:<br/>[1] Standard Errors assume that the covariance matrix of the errors is correctly specified."
      ],
      "text/plain": [
       "<class 'statsmodels.iolib.summary.Summary'>\n",
       "\"\"\"\n",
       "                            OLS Regression Results                            \n",
       "==============================================================================\n",
       "Dep. Variable:                    cnt   R-squared:                       0.843\n",
       "Model:                            OLS   Adj. R-squared:                  0.838\n",
       "Method:                 Least Squares   F-statistic:                     190.0\n",
       "Date:                Thu, 27 Apr 2023   Prob (F-statistic):          6.18e-189\n",
       "Time:                        16:58:02   Log-Likelihood:                -4123.8\n",
       "No. Observations:                 511   AIC:                             8278.\n",
       "Df Residuals:                     496   BIC:                             8341.\n",
       "Df Model:                          14                                         \n",
       "Covariance Type:            nonrobust                                         \n",
       "======================================================================================================\n",
       "                                         coef    std err          t      P>|t|      [0.025      0.975]\n",
       "------------------------------------------------------------------------------------------------------\n",
       "const                               1522.3973    273.747      5.561      0.000     984.550    2060.244\n",
       "spring                              -517.8708    181.767     -2.849      0.005    -874.999    -160.743\n",
       "summer                               387.6602    130.536      2.970      0.003     131.188     644.133\n",
       "winter                               693.3129    149.282      4.644      0.000     400.009     986.617\n",
       "January                             -339.3758    153.168     -2.216      0.027    -640.315     -38.437\n",
       "July                                -417.7679    159.397     -2.621      0.009    -730.945    -104.591\n",
       "September                            654.0040    145.096      4.507      0.000     368.926     939.082\n",
       "Saturday                             507.6340    127.875      3.970      0.000     256.390     758.878\n",
       "Light rain_Light snow_Thunderstorm -2533.7977    211.278    -11.993      0.000   -2948.909   -2118.687\n",
       "Mist_cloudy                         -710.4234     74.897     -9.485      0.000    -857.578    -563.269\n",
       "yr                                  2042.2594     70.285     29.057      0.000    1904.167    2180.352\n",
       "holiday                             -485.9446    237.801     -2.043      0.042    -953.167     -18.722\n",
       "workingday                           407.3465    101.680      4.006      0.000     207.570     607.123\n",
       "temp                                4111.1718    293.408     14.012      0.000    3534.696    4687.647\n",
       "windspeed                          -1356.7226    216.342     -6.271      0.000   -1781.782    -931.663\n",
       "==============================================================================\n",
       "Omnibus:                       67.777   Durbin-Watson:                   2.067\n",
       "Prob(Omnibus):                  0.000   Jarque-Bera (JB):              164.366\n",
       "Skew:                          -0.690   Prob(JB):                     2.03e-36\n",
       "Kurtosis:                       5.411   Cond. No.                         20.1\n",
       "==============================================================================\n",
       "\n",
       "Notes:\n",
       "[1] Standard Errors assume that the covariance matrix of the errors is correctly specified.\n",
       "\"\"\""
      ]
     },
     "execution_count": 39,
     "metadata": {},
     "output_type": "execute_result"
    }
   ],
   "source": [
    "model2=sm.OLS(y_train,x_train_sm)\n",
    "res2=model2.fit()\n",
    "res2.summary()"
   ]
  },
  {
   "cell_type": "code",
   "execution_count": 40,
   "id": "2f72651b",
   "metadata": {},
   "outputs": [
    {
     "data": {
      "text/html": [
       "<div>\n",
       "<style scoped>\n",
       "    .dataframe tbody tr th:only-of-type {\n",
       "        vertical-align: middle;\n",
       "    }\n",
       "\n",
       "    .dataframe tbody tr th {\n",
       "        vertical-align: top;\n",
       "    }\n",
       "\n",
       "    .dataframe thead th {\n",
       "        text-align: right;\n",
       "    }\n",
       "</style>\n",
       "<table border=\"1\" class=\"dataframe\">\n",
       "  <thead>\n",
       "    <tr style=\"text-align: right;\">\n",
       "      <th></th>\n",
       "      <th>Features</th>\n",
       "      <th>VIF</th>\n",
       "    </tr>\n",
       "  </thead>\n",
       "  <tbody>\n",
       "    <tr>\n",
       "      <th>12</th>\n",
       "      <td>temp</td>\n",
       "      <td>7.08</td>\n",
       "    </tr>\n",
       "    <tr>\n",
       "      <th>11</th>\n",
       "      <td>workingday</td>\n",
       "      <td>5.26</td>\n",
       "    </tr>\n",
       "    <tr>\n",
       "      <th>13</th>\n",
       "      <td>windspeed</td>\n",
       "      <td>4.68</td>\n",
       "    </tr>\n",
       "    <tr>\n",
       "      <th>0</th>\n",
       "      <td>spring</td>\n",
       "      <td>3.07</td>\n",
       "    </tr>\n",
       "    <tr>\n",
       "      <th>1</th>\n",
       "      <td>summer</td>\n",
       "      <td>2.34</td>\n",
       "    </tr>\n",
       "    <tr>\n",
       "      <th>9</th>\n",
       "      <td>yr</td>\n",
       "      <td>2.08</td>\n",
       "    </tr>\n",
       "    <tr>\n",
       "      <th>2</th>\n",
       "      <td>winter</td>\n",
       "      <td>1.99</td>\n",
       "    </tr>\n",
       "    <tr>\n",
       "      <th>6</th>\n",
       "      <td>Saturday</td>\n",
       "      <td>1.97</td>\n",
       "    </tr>\n",
       "    <tr>\n",
       "      <th>3</th>\n",
       "      <td>January</td>\n",
       "      <td>1.62</td>\n",
       "    </tr>\n",
       "    <tr>\n",
       "      <th>4</th>\n",
       "      <td>July</td>\n",
       "      <td>1.59</td>\n",
       "    </tr>\n",
       "    <tr>\n",
       "      <th>8</th>\n",
       "      <td>Mist_cloudy</td>\n",
       "      <td>1.58</td>\n",
       "    </tr>\n",
       "    <tr>\n",
       "      <th>5</th>\n",
       "      <td>September</td>\n",
       "      <td>1.35</td>\n",
       "    </tr>\n",
       "    <tr>\n",
       "      <th>10</th>\n",
       "      <td>holiday</td>\n",
       "      <td>1.17</td>\n",
       "    </tr>\n",
       "    <tr>\n",
       "      <th>7</th>\n",
       "      <td>Light rain_Light snow_Thunderstorm</td>\n",
       "      <td>1.09</td>\n",
       "    </tr>\n",
       "  </tbody>\n",
       "</table>\n",
       "</div>"
      ],
      "text/plain": [
       "                              Features   VIF\n",
       "12                                temp  7.08\n",
       "11                          workingday  5.26\n",
       "13                           windspeed  4.68\n",
       "0                               spring  3.07\n",
       "1                               summer  2.34\n",
       "9                                   yr  2.08\n",
       "2                               winter  1.99\n",
       "6                             Saturday  1.97\n",
       "3                              January  1.62\n",
       "4                                 July  1.59\n",
       "8                          Mist_cloudy  1.58\n",
       "5                            September  1.35\n",
       "10                             holiday  1.17\n",
       "7   Light rain_Light snow_Thunderstorm  1.09"
      ]
     },
     "execution_count": 40,
     "metadata": {},
     "output_type": "execute_result"
    }
   ],
   "source": [
    "cal_VIF(x_train)"
   ]
  },
  {
   "cell_type": "code",
   "execution_count": 41,
   "id": "b85be8f6",
   "metadata": {},
   "outputs": [],
   "source": [
    "x_train=x_train.drop([\"temp\"],axis=1)\n",
    "x_test=x_test.drop([\"temp\"],axis=1)"
   ]
  },
  {
   "cell_type": "code",
   "execution_count": 42,
   "id": "622c1de4",
   "metadata": {},
   "outputs": [],
   "source": [
    "x_train_sm=sm.add_constant(x_train)\n",
    "x_test_sm=sm.add_constant(x_test)"
   ]
  },
  {
   "cell_type": "code",
   "execution_count": 43,
   "id": "1fcbeeb4",
   "metadata": {},
   "outputs": [
    {
     "data": {
      "text/html": [
       "<table class=\"simpletable\">\n",
       "<caption>OLS Regression Results</caption>\n",
       "<tr>\n",
       "  <th>Dep. Variable:</th>           <td>cnt</td>       <th>  R-squared:         </th> <td>   0.781</td> \n",
       "</tr>\n",
       "<tr>\n",
       "  <th>Model:</th>                   <td>OLS</td>       <th>  Adj. R-squared:    </th> <td>   0.775</td> \n",
       "</tr>\n",
       "<tr>\n",
       "  <th>Method:</th>             <td>Least Squares</td>  <th>  F-statistic:       </th> <td>   136.1</td> \n",
       "</tr>\n",
       "<tr>\n",
       "  <th>Date:</th>             <td>Thu, 27 Apr 2023</td> <th>  Prob (F-statistic):</th> <td>2.72e-154</td>\n",
       "</tr>\n",
       "<tr>\n",
       "  <th>Time:</th>                 <td>16:58:02</td>     <th>  Log-Likelihood:    </th> <td> -4209.0</td> \n",
       "</tr>\n",
       "<tr>\n",
       "  <th>No. Observations:</th>      <td>   511</td>      <th>  AIC:               </th> <td>   8446.</td> \n",
       "</tr>\n",
       "<tr>\n",
       "  <th>Df Residuals:</th>          <td>   497</td>      <th>  BIC:               </th> <td>   8505.</td> \n",
       "</tr>\n",
       "<tr>\n",
       "  <th>Df Model:</th>              <td>    13</td>      <th>                     </th>     <td> </td>    \n",
       "</tr>\n",
       "<tr>\n",
       "  <th>Covariance Type:</th>      <td>nonrobust</td>    <th>                     </th>     <td> </td>    \n",
       "</tr>\n",
       "</table>\n",
       "<table class=\"simpletable\">\n",
       "<tr>\n",
       "                   <td></td>                     <th>coef</th>     <th>std err</th>      <th>t</th>      <th>P>|t|</th>  <th>[0.025</th>    <th>0.975]</th>  \n",
       "</tr>\n",
       "<tr>\n",
       "  <th>const</th>                              <td> 4749.3035</td> <td>  174.662</td> <td>   27.191</td> <td> 0.000</td> <td> 4406.136</td> <td> 5092.470</td>\n",
       "</tr>\n",
       "<tr>\n",
       "  <th>spring</th>                             <td>-2261.8719</td> <td>  156.345</td> <td>  -14.467</td> <td> 0.000</td> <td>-2569.050</td> <td>-1954.694</td>\n",
       "</tr>\n",
       "<tr>\n",
       "  <th>summer</th>                             <td> -371.6487</td> <td>  140.164</td> <td>   -2.652</td> <td> 0.008</td> <td> -647.035</td> <td>  -96.262</td>\n",
       "</tr>\n",
       "<tr>\n",
       "  <th>winter</th>                             <td> -650.8845</td> <td>  134.995</td> <td>   -4.822</td> <td> 0.000</td> <td> -916.115</td> <td> -385.654</td>\n",
       "</tr>\n",
       "<tr>\n",
       "  <th>January</th>                            <td> -891.5391</td> <td>  174.693</td> <td>   -5.103</td> <td> 0.000</td> <td>-1234.768</td> <td> -548.311</td>\n",
       "</tr>\n",
       "<tr>\n",
       "  <th>July</th>                               <td>  -84.1391</td> <td>  186.020</td> <td>   -0.452</td> <td> 0.651</td> <td> -449.621</td> <td>  281.343</td>\n",
       "</tr>\n",
       "<tr>\n",
       "  <th>September</th>                          <td>  615.0744</td> <td>  171.220</td> <td>    3.592</td> <td> 0.000</td> <td>  278.671</td> <td>  951.478</td>\n",
       "</tr>\n",
       "<tr>\n",
       "  <th>Saturday</th>                           <td>  489.8579</td> <td>  150.919</td> <td>    3.246</td> <td> 0.001</td> <td>  193.340</td> <td>  786.376</td>\n",
       "</tr>\n",
       "<tr>\n",
       "  <th>Light rain_Light snow_Thunderstorm</th> <td>-2644.4012</td> <td>  249.190</td> <td>  -10.612</td> <td> 0.000</td> <td>-3133.996</td> <td>-2154.806</td>\n",
       "</tr>\n",
       "<tr>\n",
       "  <th>Mist_cloudy</th>                        <td> -771.1535</td> <td>   88.250</td> <td>   -8.738</td> <td> 0.000</td> <td> -944.543</td> <td> -597.764</td>\n",
       "</tr>\n",
       "<tr>\n",
       "  <th>yr</th>                                 <td> 2158.9113</td> <td>   82.370</td> <td>   26.210</td> <td> 0.000</td> <td> 1997.074</td> <td> 2320.748</td>\n",
       "</tr>\n",
       "<tr>\n",
       "  <th>holiday</th>                            <td> -493.8409</td> <td>  280.667</td> <td>   -1.760</td> <td> 0.079</td> <td>-1045.282</td> <td>   57.600</td>\n",
       "</tr>\n",
       "<tr>\n",
       "  <th>workingday</th>                         <td>  420.6103</td> <td>  120.004</td> <td>    3.505</td> <td> 0.000</td> <td>  184.833</td> <td>  656.388</td>\n",
       "</tr>\n",
       "<tr>\n",
       "  <th>windspeed</th>                          <td>-1631.1631</td> <td>  254.292</td> <td>   -6.415</td> <td> 0.000</td> <td>-2130.783</td> <td>-1131.544</td>\n",
       "</tr>\n",
       "</table>\n",
       "<table class=\"simpletable\">\n",
       "<tr>\n",
       "  <th>Omnibus:</th>       <td>34.828</td> <th>  Durbin-Watson:     </th> <td>   2.013</td>\n",
       "</tr>\n",
       "<tr>\n",
       "  <th>Prob(Omnibus):</th> <td> 0.000</td> <th>  Jarque-Bera (JB):  </th> <td>  66.623</td>\n",
       "</tr>\n",
       "<tr>\n",
       "  <th>Skew:</th>          <td>-0.424</td> <th>  Prob(JB):          </th> <td>3.41e-15</td>\n",
       "</tr>\n",
       "<tr>\n",
       "  <th>Kurtosis:</th>      <td> 4.552</td> <th>  Cond. No.          </th> <td>    11.2</td>\n",
       "</tr>\n",
       "</table><br/><br/>Notes:<br/>[1] Standard Errors assume that the covariance matrix of the errors is correctly specified."
      ],
      "text/plain": [
       "<class 'statsmodels.iolib.summary.Summary'>\n",
       "\"\"\"\n",
       "                            OLS Regression Results                            \n",
       "==============================================================================\n",
       "Dep. Variable:                    cnt   R-squared:                       0.781\n",
       "Model:                            OLS   Adj. R-squared:                  0.775\n",
       "Method:                 Least Squares   F-statistic:                     136.1\n",
       "Date:                Thu, 27 Apr 2023   Prob (F-statistic):          2.72e-154\n",
       "Time:                        16:58:02   Log-Likelihood:                -4209.0\n",
       "No. Observations:                 511   AIC:                             8446.\n",
       "Df Residuals:                     497   BIC:                             8505.\n",
       "Df Model:                          13                                         \n",
       "Covariance Type:            nonrobust                                         \n",
       "======================================================================================================\n",
       "                                         coef    std err          t      P>|t|      [0.025      0.975]\n",
       "------------------------------------------------------------------------------------------------------\n",
       "const                               4749.3035    174.662     27.191      0.000    4406.136    5092.470\n",
       "spring                             -2261.8719    156.345    -14.467      0.000   -2569.050   -1954.694\n",
       "summer                              -371.6487    140.164     -2.652      0.008    -647.035     -96.262\n",
       "winter                              -650.8845    134.995     -4.822      0.000    -916.115    -385.654\n",
       "January                             -891.5391    174.693     -5.103      0.000   -1234.768    -548.311\n",
       "July                                 -84.1391    186.020     -0.452      0.651    -449.621     281.343\n",
       "September                            615.0744    171.220      3.592      0.000     278.671     951.478\n",
       "Saturday                             489.8579    150.919      3.246      0.001     193.340     786.376\n",
       "Light rain_Light snow_Thunderstorm -2644.4012    249.190    -10.612      0.000   -3133.996   -2154.806\n",
       "Mist_cloudy                         -771.1535     88.250     -8.738      0.000    -944.543    -597.764\n",
       "yr                                  2158.9113     82.370     26.210      0.000    1997.074    2320.748\n",
       "holiday                             -493.8409    280.667     -1.760      0.079   -1045.282      57.600\n",
       "workingday                           420.6103    120.004      3.505      0.000     184.833     656.388\n",
       "windspeed                          -1631.1631    254.292     -6.415      0.000   -2130.783   -1131.544\n",
       "==============================================================================\n",
       "Omnibus:                       34.828   Durbin-Watson:                   2.013\n",
       "Prob(Omnibus):                  0.000   Jarque-Bera (JB):               66.623\n",
       "Skew:                          -0.424   Prob(JB):                     3.41e-15\n",
       "Kurtosis:                       4.552   Cond. No.                         11.2\n",
       "==============================================================================\n",
       "\n",
       "Notes:\n",
       "[1] Standard Errors assume that the covariance matrix of the errors is correctly specified.\n",
       "\"\"\""
      ]
     },
     "execution_count": 43,
     "metadata": {},
     "output_type": "execute_result"
    }
   ],
   "source": [
    "model3=sm.OLS(y_train,x_train_sm)\n",
    "res3=model3.fit()\n",
    "res3.summary()"
   ]
  },
  {
   "cell_type": "code",
   "execution_count": 44,
   "id": "5f54d0db",
   "metadata": {},
   "outputs": [],
   "source": [
    "x_train=x_train.drop([\"July\"],axis=1)\n",
    "x_test=x_test.drop([\"July\"],axis=1)"
   ]
  },
  {
   "cell_type": "code",
   "execution_count": 45,
   "id": "45b761d2",
   "metadata": {},
   "outputs": [],
   "source": [
    "x_train_sm=sm.add_constant(x_train)\n",
    "x_test_sm=sm.add_constant(x_test)"
   ]
  },
  {
   "cell_type": "code",
   "execution_count": 46,
   "id": "2b9a91e9",
   "metadata": {},
   "outputs": [
    {
     "data": {
      "text/html": [
       "<table class=\"simpletable\">\n",
       "<caption>OLS Regression Results</caption>\n",
       "<tr>\n",
       "  <th>Dep. Variable:</th>           <td>cnt</td>       <th>  R-squared:         </th> <td>   0.781</td> \n",
       "</tr>\n",
       "<tr>\n",
       "  <th>Model:</th>                   <td>OLS</td>       <th>  Adj. R-squared:    </th> <td>   0.775</td> \n",
       "</tr>\n",
       "<tr>\n",
       "  <th>Method:</th>             <td>Least Squares</td>  <th>  F-statistic:       </th> <td>   147.6</td> \n",
       "</tr>\n",
       "<tr>\n",
       "  <th>Date:</th>             <td>Thu, 27 Apr 2023</td> <th>  Prob (F-statistic):</th> <td>2.42e-155</td>\n",
       "</tr>\n",
       "<tr>\n",
       "  <th>Time:</th>                 <td>16:58:02</td>     <th>  Log-Likelihood:    </th> <td> -4209.1</td> \n",
       "</tr>\n",
       "<tr>\n",
       "  <th>No. Observations:</th>      <td>   511</td>      <th>  AIC:               </th> <td>   8444.</td> \n",
       "</tr>\n",
       "<tr>\n",
       "  <th>Df Residuals:</th>          <td>   498</td>      <th>  BIC:               </th> <td>   8499.</td> \n",
       "</tr>\n",
       "<tr>\n",
       "  <th>Df Model:</th>              <td>    12</td>      <th>                     </th>     <td> </td>    \n",
       "</tr>\n",
       "<tr>\n",
       "  <th>Covariance Type:</th>      <td>nonrobust</td>    <th>                     </th>     <td> </td>    \n",
       "</tr>\n",
       "</table>\n",
       "<table class=\"simpletable\">\n",
       "<tr>\n",
       "                   <td></td>                     <th>coef</th>     <th>std err</th>      <th>t</th>      <th>P>|t|</th>  <th>[0.025</th>    <th>0.975]</th>  \n",
       "</tr>\n",
       "<tr>\n",
       "  <th>const</th>                              <td> 4716.3482</td> <td>  158.613</td> <td>   29.735</td> <td> 0.000</td> <td> 4404.715</td> <td> 5027.981</td>\n",
       "</tr>\n",
       "<tr>\n",
       "  <th>spring</th>                             <td>-2231.8732</td> <td>  141.467</td> <td>  -15.777</td> <td> 0.000</td> <td>-2509.819</td> <td>-1953.927</td>\n",
       "</tr>\n",
       "<tr>\n",
       "  <th>summer</th>                             <td> -341.8570</td> <td>  123.625</td> <td>   -2.765</td> <td> 0.006</td> <td> -584.749</td> <td>  -98.965</td>\n",
       "</tr>\n",
       "<tr>\n",
       "  <th>winter</th>                             <td> -622.5608</td> <td>  119.497</td> <td>   -5.210</td> <td> 0.000</td> <td> -857.341</td> <td> -387.781</td>\n",
       "</tr>\n",
       "<tr>\n",
       "  <th>January</th>                            <td> -891.9283</td> <td>  174.552</td> <td>   -5.110</td> <td> 0.000</td> <td>-1234.877</td> <td> -548.980</td>\n",
       "</tr>\n",
       "<tr>\n",
       "  <th>September</th>                          <td>  638.5352</td> <td>  163.044</td> <td>    3.916</td> <td> 0.000</td> <td>  318.196</td> <td>  958.874</td>\n",
       "</tr>\n",
       "<tr>\n",
       "  <th>Saturday</th>                           <td>  491.0818</td> <td>  150.774</td> <td>    3.257</td> <td> 0.001</td> <td>  194.850</td> <td>  787.314</td>\n",
       "</tr>\n",
       "<tr>\n",
       "  <th>Light rain_Light snow_Thunderstorm</th> <td>-2645.4825</td> <td>  248.979</td> <td>  -10.625</td> <td> 0.000</td> <td>-3134.662</td> <td>-2156.303</td>\n",
       "</tr>\n",
       "<tr>\n",
       "  <th>Mist_cloudy</th>                        <td> -768.4698</td> <td>   87.980</td> <td>   -8.735</td> <td> 0.000</td> <td> -941.327</td> <td> -595.612</td>\n",
       "</tr>\n",
       "<tr>\n",
       "  <th>yr</th>                                 <td> 2159.2144</td> <td>   82.302</td> <td>   26.235</td> <td> 0.000</td> <td> 1997.513</td> <td> 2320.916</td>\n",
       "</tr>\n",
       "<tr>\n",
       "  <th>holiday</th>                            <td> -490.1720</td> <td>  280.326</td> <td>   -1.749</td> <td> 0.081</td> <td>-1040.939</td> <td>   60.595</td>\n",
       "</tr>\n",
       "<tr>\n",
       "  <th>workingday</th>                         <td>  422.7531</td> <td>  119.814</td> <td>    3.528</td> <td> 0.000</td> <td>  187.349</td> <td>  658.157</td>\n",
       "</tr>\n",
       "<tr>\n",
       "  <th>windspeed</th>                          <td>-1630.4132</td> <td>  254.083</td> <td>   -6.417</td> <td> 0.000</td> <td>-2129.620</td> <td>-1131.206</td>\n",
       "</tr>\n",
       "</table>\n",
       "<table class=\"simpletable\">\n",
       "<tr>\n",
       "  <th>Omnibus:</th>       <td>34.958</td> <th>  Durbin-Watson:     </th> <td>   2.018</td>\n",
       "</tr>\n",
       "<tr>\n",
       "  <th>Prob(Omnibus):</th> <td> 0.000</td> <th>  Jarque-Bera (JB):  </th> <td>  66.552</td>\n",
       "</tr>\n",
       "<tr>\n",
       "  <th>Skew:</th>          <td>-0.427</td> <th>  Prob(JB):          </th> <td>3.54e-15</td>\n",
       "</tr>\n",
       "<tr>\n",
       "  <th>Kurtosis:</th>      <td> 4.548</td> <th>  Cond. No.          </th> <td>    10.9</td>\n",
       "</tr>\n",
       "</table><br/><br/>Notes:<br/>[1] Standard Errors assume that the covariance matrix of the errors is correctly specified."
      ],
      "text/plain": [
       "<class 'statsmodels.iolib.summary.Summary'>\n",
       "\"\"\"\n",
       "                            OLS Regression Results                            \n",
       "==============================================================================\n",
       "Dep. Variable:                    cnt   R-squared:                       0.781\n",
       "Model:                            OLS   Adj. R-squared:                  0.775\n",
       "Method:                 Least Squares   F-statistic:                     147.6\n",
       "Date:                Thu, 27 Apr 2023   Prob (F-statistic):          2.42e-155\n",
       "Time:                        16:58:02   Log-Likelihood:                -4209.1\n",
       "No. Observations:                 511   AIC:                             8444.\n",
       "Df Residuals:                     498   BIC:                             8499.\n",
       "Df Model:                          12                                         \n",
       "Covariance Type:            nonrobust                                         \n",
       "======================================================================================================\n",
       "                                         coef    std err          t      P>|t|      [0.025      0.975]\n",
       "------------------------------------------------------------------------------------------------------\n",
       "const                               4716.3482    158.613     29.735      0.000    4404.715    5027.981\n",
       "spring                             -2231.8732    141.467    -15.777      0.000   -2509.819   -1953.927\n",
       "summer                              -341.8570    123.625     -2.765      0.006    -584.749     -98.965\n",
       "winter                              -622.5608    119.497     -5.210      0.000    -857.341    -387.781\n",
       "January                             -891.9283    174.552     -5.110      0.000   -1234.877    -548.980\n",
       "September                            638.5352    163.044      3.916      0.000     318.196     958.874\n",
       "Saturday                             491.0818    150.774      3.257      0.001     194.850     787.314\n",
       "Light rain_Light snow_Thunderstorm -2645.4825    248.979    -10.625      0.000   -3134.662   -2156.303\n",
       "Mist_cloudy                         -768.4698     87.980     -8.735      0.000    -941.327    -595.612\n",
       "yr                                  2159.2144     82.302     26.235      0.000    1997.513    2320.916\n",
       "holiday                             -490.1720    280.326     -1.749      0.081   -1040.939      60.595\n",
       "workingday                           422.7531    119.814      3.528      0.000     187.349     658.157\n",
       "windspeed                          -1630.4132    254.083     -6.417      0.000   -2129.620   -1131.206\n",
       "==============================================================================\n",
       "Omnibus:                       34.958   Durbin-Watson:                   2.018\n",
       "Prob(Omnibus):                  0.000   Jarque-Bera (JB):               66.552\n",
       "Skew:                          -0.427   Prob(JB):                     3.54e-15\n",
       "Kurtosis:                       4.548   Cond. No.                         10.9\n",
       "==============================================================================\n",
       "\n",
       "Notes:\n",
       "[1] Standard Errors assume that the covariance matrix of the errors is correctly specified.\n",
       "\"\"\""
      ]
     },
     "execution_count": 46,
     "metadata": {},
     "output_type": "execute_result"
    }
   ],
   "source": [
    "model4=sm.OLS(y_train,x_train_sm)\n",
    "res4=model4.fit()\n",
    "res4.summary()"
   ]
  },
  {
   "cell_type": "code",
   "execution_count": 47,
   "id": "274f0dcc",
   "metadata": {},
   "outputs": [],
   "source": [
    "x_train=x_train.drop([\"holiday\"],axis=1)\n",
    "x_test=x_test.drop([\"holiday\"],axis=1)"
   ]
  },
  {
   "cell_type": "code",
   "execution_count": 48,
   "id": "a198b477",
   "metadata": {},
   "outputs": [],
   "source": [
    "x_train_sm=sm.add_constant(x_train)\n",
    "x_test_sm=sm.add_constant(x_test)"
   ]
  },
  {
   "cell_type": "code",
   "execution_count": 49,
   "id": "2395e819",
   "metadata": {},
   "outputs": [
    {
     "data": {
      "text/html": [
       "<table class=\"simpletable\">\n",
       "<caption>OLS Regression Results</caption>\n",
       "<tr>\n",
       "  <th>Dep. Variable:</th>           <td>cnt</td>       <th>  R-squared:         </th> <td>   0.779</td> \n",
       "</tr>\n",
       "<tr>\n",
       "  <th>Model:</th>                   <td>OLS</td>       <th>  Adj. R-squared:    </th> <td>   0.774</td> \n",
       "</tr>\n",
       "<tr>\n",
       "  <th>Method:</th>             <td>Least Squares</td>  <th>  F-statistic:       </th> <td>   160.1</td> \n",
       "</tr>\n",
       "<tr>\n",
       "  <th>Date:</th>             <td>Thu, 27 Apr 2023</td> <th>  Prob (F-statistic):</th> <td>8.52e-156</td>\n",
       "</tr>\n",
       "<tr>\n",
       "  <th>Time:</th>                 <td>16:58:02</td>     <th>  Log-Likelihood:    </th> <td> -4210.7</td> \n",
       "</tr>\n",
       "<tr>\n",
       "  <th>No. Observations:</th>      <td>   511</td>      <th>  AIC:               </th> <td>   8445.</td> \n",
       "</tr>\n",
       "<tr>\n",
       "  <th>Df Residuals:</th>          <td>   499</td>      <th>  BIC:               </th> <td>   8496.</td> \n",
       "</tr>\n",
       "<tr>\n",
       "  <th>Df Model:</th>              <td>    11</td>      <th>                     </th>     <td> </td>    \n",
       "</tr>\n",
       "<tr>\n",
       "  <th>Covariance Type:</th>      <td>nonrobust</td>    <th>                     </th>     <td> </td>    \n",
       "</tr>\n",
       "</table>\n",
       "<table class=\"simpletable\">\n",
       "<tr>\n",
       "                   <td></td>                     <th>coef</th>     <th>std err</th>      <th>t</th>      <th>P>|t|</th>  <th>[0.025</th>    <th>0.975]</th>  \n",
       "</tr>\n",
       "<tr>\n",
       "  <th>const</th>                              <td> 4651.2646</td> <td>  154.501</td> <td>   30.105</td> <td> 0.000</td> <td> 4347.711</td> <td> 4954.818</td>\n",
       "</tr>\n",
       "<tr>\n",
       "  <th>spring</th>                             <td>-2243.1276</td> <td>  141.612</td> <td>  -15.840</td> <td> 0.000</td> <td>-2521.356</td> <td>-1964.899</td>\n",
       "</tr>\n",
       "<tr>\n",
       "  <th>summer</th>                             <td> -342.5223</td> <td>  123.879</td> <td>   -2.765</td> <td> 0.006</td> <td> -585.912</td> <td>  -99.133</td>\n",
       "</tr>\n",
       "<tr>\n",
       "  <th>winter</th>                             <td> -633.6558</td> <td>  119.574</td> <td>   -5.299</td> <td> 0.000</td> <td> -868.586</td> <td> -398.725</td>\n",
       "</tr>\n",
       "<tr>\n",
       "  <th>January</th>                            <td> -897.0311</td> <td>  174.887</td> <td>   -5.129</td> <td> 0.000</td> <td>-1240.636</td> <td> -553.426</td>\n",
       "</tr>\n",
       "<tr>\n",
       "  <th>September</th>                          <td>  619.1925</td> <td>  163.003</td> <td>    3.799</td> <td> 0.000</td> <td>  298.935</td> <td>  939.450</td>\n",
       "</tr>\n",
       "<tr>\n",
       "  <th>Saturday</th>                           <td>  564.5428</td> <td>  145.101</td> <td>    3.891</td> <td> 0.000</td> <td>  279.458</td> <td>  849.627</td>\n",
       "</tr>\n",
       "<tr>\n",
       "  <th>Light rain_Light snow_Thunderstorm</th> <td>-2635.2426</td> <td>  249.423</td> <td>  -10.565</td> <td> 0.000</td> <td>-3125.291</td> <td>-2145.194</td>\n",
       "</tr>\n",
       "<tr>\n",
       "  <th>Mist_cloudy</th>                        <td> -764.2917</td> <td>   88.129</td> <td>   -8.672</td> <td> 0.000</td> <td> -937.441</td> <td> -591.143</td>\n",
       "</tr>\n",
       "<tr>\n",
       "  <th>yr</th>                                 <td> 2160.8331</td> <td>   82.466</td> <td>   26.203</td> <td> 0.000</td> <td> 1998.810</td> <td> 2322.857</td>\n",
       "</tr>\n",
       "<tr>\n",
       "  <th>workingday</th>                         <td>  495.2774</td> <td>  112.638</td> <td>    4.397</td> <td> 0.000</td> <td>  273.974</td> <td>  716.581</td>\n",
       "</tr>\n",
       "<tr>\n",
       "  <th>windspeed</th>                          <td>-1639.0134</td> <td>  254.559</td> <td>   -6.439</td> <td> 0.000</td> <td>-2139.153</td> <td>-1138.874</td>\n",
       "</tr>\n",
       "</table>\n",
       "<table class=\"simpletable\">\n",
       "<tr>\n",
       "  <th>Omnibus:</th>       <td>39.640</td> <th>  Durbin-Watson:     </th> <td>   2.013</td>\n",
       "</tr>\n",
       "<tr>\n",
       "  <th>Prob(Omnibus):</th> <td> 0.000</td> <th>  Jarque-Bera (JB):  </th> <td>  79.800</td>\n",
       "</tr>\n",
       "<tr>\n",
       "  <th>Skew:</th>          <td>-0.462</td> <th>  Prob(JB):          </th> <td>4.70e-18</td>\n",
       "</tr>\n",
       "<tr>\n",
       "  <th>Kurtosis:</th>      <td> 4.701</td> <th>  Cond. No.          </th> <td>    10.1</td>\n",
       "</tr>\n",
       "</table><br/><br/>Notes:<br/>[1] Standard Errors assume that the covariance matrix of the errors is correctly specified."
      ],
      "text/plain": [
       "<class 'statsmodels.iolib.summary.Summary'>\n",
       "\"\"\"\n",
       "                            OLS Regression Results                            \n",
       "==============================================================================\n",
       "Dep. Variable:                    cnt   R-squared:                       0.779\n",
       "Model:                            OLS   Adj. R-squared:                  0.774\n",
       "Method:                 Least Squares   F-statistic:                     160.1\n",
       "Date:                Thu, 27 Apr 2023   Prob (F-statistic):          8.52e-156\n",
       "Time:                        16:58:02   Log-Likelihood:                -4210.7\n",
       "No. Observations:                 511   AIC:                             8445.\n",
       "Df Residuals:                     499   BIC:                             8496.\n",
       "Df Model:                          11                                         \n",
       "Covariance Type:            nonrobust                                         \n",
       "======================================================================================================\n",
       "                                         coef    std err          t      P>|t|      [0.025      0.975]\n",
       "------------------------------------------------------------------------------------------------------\n",
       "const                               4651.2646    154.501     30.105      0.000    4347.711    4954.818\n",
       "spring                             -2243.1276    141.612    -15.840      0.000   -2521.356   -1964.899\n",
       "summer                              -342.5223    123.879     -2.765      0.006    -585.912     -99.133\n",
       "winter                              -633.6558    119.574     -5.299      0.000    -868.586    -398.725\n",
       "January                             -897.0311    174.887     -5.129      0.000   -1240.636    -553.426\n",
       "September                            619.1925    163.003      3.799      0.000     298.935     939.450\n",
       "Saturday                             564.5428    145.101      3.891      0.000     279.458     849.627\n",
       "Light rain_Light snow_Thunderstorm -2635.2426    249.423    -10.565      0.000   -3125.291   -2145.194\n",
       "Mist_cloudy                         -764.2917     88.129     -8.672      0.000    -937.441    -591.143\n",
       "yr                                  2160.8331     82.466     26.203      0.000    1998.810    2322.857\n",
       "workingday                           495.2774    112.638      4.397      0.000     273.974     716.581\n",
       "windspeed                          -1639.0134    254.559     -6.439      0.000   -2139.153   -1138.874\n",
       "==============================================================================\n",
       "Omnibus:                       39.640   Durbin-Watson:                   2.013\n",
       "Prob(Omnibus):                  0.000   Jarque-Bera (JB):               79.800\n",
       "Skew:                          -0.462   Prob(JB):                     4.70e-18\n",
       "Kurtosis:                       4.701   Cond. No.                         10.1\n",
       "==============================================================================\n",
       "\n",
       "Notes:\n",
       "[1] Standard Errors assume that the covariance matrix of the errors is correctly specified.\n",
       "\"\"\""
      ]
     },
     "execution_count": 49,
     "metadata": {},
     "output_type": "execute_result"
    }
   ],
   "source": [
    "model4=sm.OLS(y_train,x_train_sm)\n",
    "res4=model4.fit()\n",
    "res4.summary()"
   ]
  },
  {
   "cell_type": "code",
   "execution_count": 50,
   "id": "33bd8333",
   "metadata": {},
   "outputs": [
    {
     "data": {
      "text/html": [
       "<div>\n",
       "<style scoped>\n",
       "    .dataframe tbody tr th:only-of-type {\n",
       "        vertical-align: middle;\n",
       "    }\n",
       "\n",
       "    .dataframe tbody tr th {\n",
       "        vertical-align: top;\n",
       "    }\n",
       "\n",
       "    .dataframe thead th {\n",
       "        text-align: right;\n",
       "    }\n",
       "</style>\n",
       "<table border=\"1\" class=\"dataframe\">\n",
       "  <thead>\n",
       "    <tr style=\"text-align: right;\">\n",
       "      <th></th>\n",
       "      <th>Features</th>\n",
       "      <th>VIF</th>\n",
       "    </tr>\n",
       "  </thead>\n",
       "  <tbody>\n",
       "    <tr>\n",
       "      <th>10</th>\n",
       "      <td>windspeed</td>\n",
       "      <td>4.05</td>\n",
       "    </tr>\n",
       "    <tr>\n",
       "      <th>9</th>\n",
       "      <td>workingday</td>\n",
       "      <td>3.30</td>\n",
       "    </tr>\n",
       "    <tr>\n",
       "      <th>0</th>\n",
       "      <td>spring</td>\n",
       "      <td>2.65</td>\n",
       "    </tr>\n",
       "    <tr>\n",
       "      <th>1</th>\n",
       "      <td>summer</td>\n",
       "      <td>2.00</td>\n",
       "    </tr>\n",
       "    <tr>\n",
       "      <th>8</th>\n",
       "      <td>yr</td>\n",
       "      <td>1.89</td>\n",
       "    </tr>\n",
       "    <tr>\n",
       "      <th>2</th>\n",
       "      <td>winter</td>\n",
       "      <td>1.73</td>\n",
       "    </tr>\n",
       "    <tr>\n",
       "      <th>3</th>\n",
       "      <td>January</td>\n",
       "      <td>1.60</td>\n",
       "    </tr>\n",
       "    <tr>\n",
       "      <th>7</th>\n",
       "      <td>Mist_cloudy</td>\n",
       "      <td>1.57</td>\n",
       "    </tr>\n",
       "    <tr>\n",
       "      <th>5</th>\n",
       "      <td>Saturday</td>\n",
       "      <td>1.56</td>\n",
       "    </tr>\n",
       "    <tr>\n",
       "      <th>4</th>\n",
       "      <td>September</td>\n",
       "      <td>1.18</td>\n",
       "    </tr>\n",
       "    <tr>\n",
       "      <th>6</th>\n",
       "      <td>Light rain_Light snow_Thunderstorm</td>\n",
       "      <td>1.08</td>\n",
       "    </tr>\n",
       "  </tbody>\n",
       "</table>\n",
       "</div>"
      ],
      "text/plain": [
       "                              Features   VIF\n",
       "10                           windspeed  4.05\n",
       "9                           workingday  3.30\n",
       "0                               spring  2.65\n",
       "1                               summer  2.00\n",
       "8                                   yr  1.89\n",
       "2                               winter  1.73\n",
       "3                              January  1.60\n",
       "7                          Mist_cloudy  1.57\n",
       "5                             Saturday  1.56\n",
       "4                            September  1.18\n",
       "6   Light rain_Light snow_Thunderstorm  1.08"
      ]
     },
     "execution_count": 50,
     "metadata": {},
     "output_type": "execute_result"
    }
   ],
   "source": [
    "cal_VIF(x_train)"
   ]
  },
  {
   "cell_type": "code",
   "execution_count": 51,
   "id": "aacafee1",
   "metadata": {},
   "outputs": [],
   "source": [
    "x_train_sm=sm.add_constant(x_train)\n",
    "x_test_sm=sm.add_constant(x_test)"
   ]
  },
  {
   "cell_type": "code",
   "execution_count": 52,
   "id": "22f16306",
   "metadata": {},
   "outputs": [
    {
     "data": {
      "text/html": [
       "<table class=\"simpletable\">\n",
       "<caption>OLS Regression Results</caption>\n",
       "<tr>\n",
       "  <th>Dep. Variable:</th>           <td>cnt</td>       <th>  R-squared:         </th> <td>   0.779</td> \n",
       "</tr>\n",
       "<tr>\n",
       "  <th>Model:</th>                   <td>OLS</td>       <th>  Adj. R-squared:    </th> <td>   0.774</td> \n",
       "</tr>\n",
       "<tr>\n",
       "  <th>Method:</th>             <td>Least Squares</td>  <th>  F-statistic:       </th> <td>   160.1</td> \n",
       "</tr>\n",
       "<tr>\n",
       "  <th>Date:</th>             <td>Thu, 27 Apr 2023</td> <th>  Prob (F-statistic):</th> <td>8.52e-156</td>\n",
       "</tr>\n",
       "<tr>\n",
       "  <th>Time:</th>                 <td>16:58:02</td>     <th>  Log-Likelihood:    </th> <td> -4210.7</td> \n",
       "</tr>\n",
       "<tr>\n",
       "  <th>No. Observations:</th>      <td>   511</td>      <th>  AIC:               </th> <td>   8445.</td> \n",
       "</tr>\n",
       "<tr>\n",
       "  <th>Df Residuals:</th>          <td>   499</td>      <th>  BIC:               </th> <td>   8496.</td> \n",
       "</tr>\n",
       "<tr>\n",
       "  <th>Df Model:</th>              <td>    11</td>      <th>                     </th>     <td> </td>    \n",
       "</tr>\n",
       "<tr>\n",
       "  <th>Covariance Type:</th>      <td>nonrobust</td>    <th>                     </th>     <td> </td>    \n",
       "</tr>\n",
       "</table>\n",
       "<table class=\"simpletable\">\n",
       "<tr>\n",
       "                   <td></td>                     <th>coef</th>     <th>std err</th>      <th>t</th>      <th>P>|t|</th>  <th>[0.025</th>    <th>0.975]</th>  \n",
       "</tr>\n",
       "<tr>\n",
       "  <th>const</th>                              <td> 4651.2646</td> <td>  154.501</td> <td>   30.105</td> <td> 0.000</td> <td> 4347.711</td> <td> 4954.818</td>\n",
       "</tr>\n",
       "<tr>\n",
       "  <th>spring</th>                             <td>-2243.1276</td> <td>  141.612</td> <td>  -15.840</td> <td> 0.000</td> <td>-2521.356</td> <td>-1964.899</td>\n",
       "</tr>\n",
       "<tr>\n",
       "  <th>summer</th>                             <td> -342.5223</td> <td>  123.879</td> <td>   -2.765</td> <td> 0.006</td> <td> -585.912</td> <td>  -99.133</td>\n",
       "</tr>\n",
       "<tr>\n",
       "  <th>winter</th>                             <td> -633.6558</td> <td>  119.574</td> <td>   -5.299</td> <td> 0.000</td> <td> -868.586</td> <td> -398.725</td>\n",
       "</tr>\n",
       "<tr>\n",
       "  <th>January</th>                            <td> -897.0311</td> <td>  174.887</td> <td>   -5.129</td> <td> 0.000</td> <td>-1240.636</td> <td> -553.426</td>\n",
       "</tr>\n",
       "<tr>\n",
       "  <th>September</th>                          <td>  619.1925</td> <td>  163.003</td> <td>    3.799</td> <td> 0.000</td> <td>  298.935</td> <td>  939.450</td>\n",
       "</tr>\n",
       "<tr>\n",
       "  <th>Saturday</th>                           <td>  564.5428</td> <td>  145.101</td> <td>    3.891</td> <td> 0.000</td> <td>  279.458</td> <td>  849.627</td>\n",
       "</tr>\n",
       "<tr>\n",
       "  <th>Light rain_Light snow_Thunderstorm</th> <td>-2635.2426</td> <td>  249.423</td> <td>  -10.565</td> <td> 0.000</td> <td>-3125.291</td> <td>-2145.194</td>\n",
       "</tr>\n",
       "<tr>\n",
       "  <th>Mist_cloudy</th>                        <td> -764.2917</td> <td>   88.129</td> <td>   -8.672</td> <td> 0.000</td> <td> -937.441</td> <td> -591.143</td>\n",
       "</tr>\n",
       "<tr>\n",
       "  <th>yr</th>                                 <td> 2160.8331</td> <td>   82.466</td> <td>   26.203</td> <td> 0.000</td> <td> 1998.810</td> <td> 2322.857</td>\n",
       "</tr>\n",
       "<tr>\n",
       "  <th>workingday</th>                         <td>  495.2774</td> <td>  112.638</td> <td>    4.397</td> <td> 0.000</td> <td>  273.974</td> <td>  716.581</td>\n",
       "</tr>\n",
       "<tr>\n",
       "  <th>windspeed</th>                          <td>-1639.0134</td> <td>  254.559</td> <td>   -6.439</td> <td> 0.000</td> <td>-2139.153</td> <td>-1138.874</td>\n",
       "</tr>\n",
       "</table>\n",
       "<table class=\"simpletable\">\n",
       "<tr>\n",
       "  <th>Omnibus:</th>       <td>39.640</td> <th>  Durbin-Watson:     </th> <td>   2.013</td>\n",
       "</tr>\n",
       "<tr>\n",
       "  <th>Prob(Omnibus):</th> <td> 0.000</td> <th>  Jarque-Bera (JB):  </th> <td>  79.800</td>\n",
       "</tr>\n",
       "<tr>\n",
       "  <th>Skew:</th>          <td>-0.462</td> <th>  Prob(JB):          </th> <td>4.70e-18</td>\n",
       "</tr>\n",
       "<tr>\n",
       "  <th>Kurtosis:</th>      <td> 4.701</td> <th>  Cond. No.          </th> <td>    10.1</td>\n",
       "</tr>\n",
       "</table><br/><br/>Notes:<br/>[1] Standard Errors assume that the covariance matrix of the errors is correctly specified."
      ],
      "text/plain": [
       "<class 'statsmodels.iolib.summary.Summary'>\n",
       "\"\"\"\n",
       "                            OLS Regression Results                            \n",
       "==============================================================================\n",
       "Dep. Variable:                    cnt   R-squared:                       0.779\n",
       "Model:                            OLS   Adj. R-squared:                  0.774\n",
       "Method:                 Least Squares   F-statistic:                     160.1\n",
       "Date:                Thu, 27 Apr 2023   Prob (F-statistic):          8.52e-156\n",
       "Time:                        16:58:02   Log-Likelihood:                -4210.7\n",
       "No. Observations:                 511   AIC:                             8445.\n",
       "Df Residuals:                     499   BIC:                             8496.\n",
       "Df Model:                          11                                         \n",
       "Covariance Type:            nonrobust                                         \n",
       "======================================================================================================\n",
       "                                         coef    std err          t      P>|t|      [0.025      0.975]\n",
       "------------------------------------------------------------------------------------------------------\n",
       "const                               4651.2646    154.501     30.105      0.000    4347.711    4954.818\n",
       "spring                             -2243.1276    141.612    -15.840      0.000   -2521.356   -1964.899\n",
       "summer                              -342.5223    123.879     -2.765      0.006    -585.912     -99.133\n",
       "winter                              -633.6558    119.574     -5.299      0.000    -868.586    -398.725\n",
       "January                             -897.0311    174.887     -5.129      0.000   -1240.636    -553.426\n",
       "September                            619.1925    163.003      3.799      0.000     298.935     939.450\n",
       "Saturday                             564.5428    145.101      3.891      0.000     279.458     849.627\n",
       "Light rain_Light snow_Thunderstorm -2635.2426    249.423    -10.565      0.000   -3125.291   -2145.194\n",
       "Mist_cloudy                         -764.2917     88.129     -8.672      0.000    -937.441    -591.143\n",
       "yr                                  2160.8331     82.466     26.203      0.000    1998.810    2322.857\n",
       "workingday                           495.2774    112.638      4.397      0.000     273.974     716.581\n",
       "windspeed                          -1639.0134    254.559     -6.439      0.000   -2139.153   -1138.874\n",
       "==============================================================================\n",
       "Omnibus:                       39.640   Durbin-Watson:                   2.013\n",
       "Prob(Omnibus):                  0.000   Jarque-Bera (JB):               79.800\n",
       "Skew:                          -0.462   Prob(JB):                     4.70e-18\n",
       "Kurtosis:                       4.701   Cond. No.                         10.1\n",
       "==============================================================================\n",
       "\n",
       "Notes:\n",
       "[1] Standard Errors assume that the covariance matrix of the errors is correctly specified.\n",
       "\"\"\""
      ]
     },
     "execution_count": 52,
     "metadata": {},
     "output_type": "execute_result"
    }
   ],
   "source": [
    "model6=sm.OLS(y_train,x_train_sm)\n",
    "res6=model6.fit()\n",
    "res6.summary()"
   ]
  },
  {
   "cell_type": "markdown",
   "id": "13813e05",
   "metadata": {},
   "source": [
    "## Model is ready"
   ]
  },
  {
   "cell_type": "code",
   "execution_count": 53,
   "id": "c6a92f12",
   "metadata": {},
   "outputs": [
    {
     "name": "stdout",
     "output_type": "stream",
     "text": [
      "Train Performance: 77.92 %\n"
     ]
    }
   ],
   "source": [
    "predicted_value1=res6.predict(x_train_sm)\n",
    "print(\"Train Performance:\",round(r2_score(y_train, predicted_value1)*100,2),\"%\")"
   ]
  },
  {
   "cell_type": "code",
   "execution_count": 54,
   "id": "b9739442",
   "metadata": {},
   "outputs": [
    {
     "name": "stdout",
     "output_type": "stream",
     "text": [
      "Test Performance: 71.79 %\n"
     ]
    }
   ],
   "source": [
    "predicted_value2=res6.predict(x_test_sm)\n",
    "print(\"Test Performance:\",round(r2_score(y_test, predicted_value2)*100,2),\"%\")"
   ]
  },
  {
   "cell_type": "code",
   "execution_count": 55,
   "id": "bf6b5f4f",
   "metadata": {},
   "outputs": [
    {
     "data": {
      "image/png": "[encoded data removed]",
      "text/plain": [
       "<Figure size 432x288 with 1 Axes>"
      ]
     },
     "metadata": {
      "needs_background": "light"
     },
     "output_type": "display_data"
    }
   ],
   "source": [
    "#CHECKING PREDICTED V/s TEST DATA \n",
    "\n",
    "fig = plt.figure()\n",
    "plt.scatter(y_test,predicted_value2)\n",
    "fig.suptitle('y_test vs y_pred', fontsize=20)              # Plot heading \n",
    "plt.xlabel('y_test', fontsize=18)                          # X-label\n",
    "plt.ylabel('y_pred', fontsize=16)                          # Y-label\n",
    "plt.show()"
   ]
  },
  {
   "cell_type": "code",
   "execution_count": 56,
   "id": "9298c0ee",
   "metadata": {},
   "outputs": [],
   "source": [
    "x_t=x_train.iloc[:,0].values"
   ]
  },
  {
   "cell_type": "code",
   "execution_count": 57,
   "id": "f1aaf852",
   "metadata": {},
   "outputs": [],
   "source": [
    "#CALCULATING RESIDUALS\n",
    "\n",
    "res=y_train - predicted_value1"
   ]
  },
  {
   "cell_type": "code",
   "execution_count": 58,
   "id": "29091278",
   "metadata": {},
   "outputs": [
    {
     "data": {
      "text/plain": [
       "Text(0.5, 0, 'Errors')"
      ]
     },
     "execution_count": 58,
     "metadata": {},
     "output_type": "execute_result"
    },
    {
     "data": {
      "image/png": "[encoded data removed]",
      "text/plain": [
       "<Figure size 432x288 with 1 Axes>"
      ]
     },
     "metadata": {
      "needs_background": "light"
     },
     "output_type": "display_data"
    }
   ],
   "source": [
    "#Checking ASSUMPTION OF NORMALITY:\n",
    "# Plot the histogram of the error terms\n",
    "fig = plt.figure()\n",
    "sns.distplot((res), bins = 20)\n",
    "fig.suptitle('Error Terms', fontsize = 20)                  # Plot heading \n",
    "plt.xlabel('Errors', fontsize = 18)   "
   ]
  },
  {
   "cell_type": "code",
   "execution_count": 59,
   "id": "c0768010",
   "metadata": {},
   "outputs": [
    {
     "data": {
      "image/png": "[encoded data removed]",
      "text/plain": [
       "<Figure size 432x288 with 1 Axes>"
      ]
     },
     "metadata": {
      "needs_background": "light"
     },
     "output_type": "display_data"
    }
   ],
   "source": [
    "#PLotting the residuals to see if a pattern exists\n",
    "#Checking assumption of homoscedasticity and autocorrelation\n",
    "plt.figure()\n",
    "plt.scatter(x_t,res)\n",
    "fig.suptitle('Independent vars vs res', fontsize=20)              # Plot heading \n",
    "plt.xlabel('Independent variables', fontsize=18)                          # X-label\n",
    "plt.ylabel('Residuals', fontsize=16)  \n",
    "plt.show()"
   ]
  },
  {
   "cell_type": "code",
   "execution_count": 60,
   "id": "5923ad2c",
   "metadata": {},
   "outputs": [
    {
     "name": "stdout",
     "output_type": "stream",
     "text": [
      "0.7029\n"
     ]
    }
   ],
   "source": [
    "# Calculating Adjusted-R^2 value for the test dataset\n",
    "\n",
    "adjusted_r2 = round(1-(1-r2_score(y_test, predicted_value2))*(x_test.shape[0]-1)/(x_test.shape[0]-x_test.shape[1]-1),4)\n",
    "print(adjusted_r2)"
   ]
  },
  {
   "cell_type": "markdown",
   "id": "dcb6c951",
   "metadata": {},
   "source": [
    "## We can see that the equation for best fitted line is:"
   ]
  },
  {
   "cell_type": "markdown",
   "id": "46a48008",
   "metadata": {},
   "source": [
    "### cnt = 4651.2646--2243.1276 X spring--342.5223 X summer-633.6558 X Winter-897.0311 X January-  619.1925 X September+564.5428 X Saturday --2635.2426 X Light rain_Light snow_Thunderstorm--764.2917 X Mist_cloudy+2160.8331 X yr-495.2774 X WorkingDay-1639.0134 X windspeed"
   ]
  },
  {
   "cell_type": "markdown",
   "id": "fd5bd68a",
   "metadata": {},
   "source": [
    "## We can see the demand for bikes depends mainly on below variables:\n",
    "### spring , summer , Winter , January , September, Saturday , Light rain_Light snow_Thunderstorm , Mist_cloudy , yr , WorkingDay , windspeed"
   ]
  },
  {
   "cell_type": "markdown",
   "id": "4f222d64",
   "metadata": {},
   "source": [
    "### Demand decreases in spring and summer season and in the month of   January , November and during Light rain_Light snow_Thunderstorm and in  Mist_cloudy and when windspeed is high and its also working day."
   ]
  },
  {
   "cell_type": "markdown",
   "id": "72842101",
   "metadata": {},
   "source": [
    "### Demand increase in month of September ,WorkingDay and depends on yr(year) and when its saturdaySaturday."
   ]
  },
  {
   "cell_type": "code",
   "execution_count": null,
   "id": "cab003a9",
   "metadata": {},
   "outputs": [],
   "source": []
  },
  {
   "cell_type": "code",
   "execution_count": null,
   "id": "d2288af2",
   "metadata": {},
   "outputs": [],
   "source": []
  },
  {
   "cell_type": "code",
   "execution_count": null,
   "id": "38b98ce8",
   "metadata": {},
   "outputs": [],
   "source": []
  }
 ],
 "metadata": {
  "kernelspec": {
   "display_name": "Python 3 (ipykernel)",
   "language": "python",
   "name": "python3"
  },
  "language_info": {
   "codemirror_mode": {
    "name": "ipython",
    "version": 3
   },
   "file_extension": ".py",
   "mimetype": "text/x-python",
   "name": "python",
   "nbconvert_exporter": "python",
   "pygments_lexer": "ipython3",
   "version": "3.9.12"
  }
 },
 "nbformat": 4,
 "nbformat_minor": 5
}
